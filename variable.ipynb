{
 "cells": [
  {
   "cell_type": "markdown",
   "id": "db363ffd-ad07-4948-85cc-23b3fe6c7841",
   "metadata": {},
   "source": [
    "### Question 1: Variable Declaration\r\n",
    "Declare a variable named days_in_week and assign it the number of days in a week. Print the variable.\r\n"
   ]
  },
  {
   "cell_type": "code",
   "execution_count": 2,
   "id": "030c3c4b-5f8d-4e9d-9e9a-04d168380b83",
   "metadata": {},
   "outputs": [
    {
     "name": "stdout",
     "output_type": "stream",
     "text": [
      "7\n"
     ]
    }
   ],
   "source": [
    "days_in_week=7\n",
    "print(days_in_week)"
   ]
  },
  {
   "cell_type": "markdown",
   "id": "f5518048-9b8e-492f-ac96-54b4006f0138",
   "metadata": {},
   "source": [
    "### Question 2: Arithmetic Operations\r\n",
    "Given two variables a = 15 and b = 4, calculate and print their sum, difference, product, and quotient\r\n"
   ]
  },
  {
   "cell_type": "code",
   "execution_count": 3,
   "id": "9763127d-6e61-45d0-b4d7-1606a8cc9cc0",
   "metadata": {},
   "outputs": [
    {
     "name": "stdout",
     "output_type": "stream",
     "text": [
      "sum : 19\n",
      "difference : 11\n",
      "product 60\n",
      "quotient 3.75\n"
     ]
    }
   ],
   "source": [
    "a=15 \n",
    "b=4\n",
    "print('sum :',a+b)\n",
    "print('difference :',a-b)\n",
    "print('product',a*b)\n",
    "print('quotient',a/b)"
   ]
  },
  {
   "cell_type": "markdown",
   "id": "9a48e002-c8a8-4d9a-bdfc-fa54193bee6a",
   "metadata": {},
   "source": [
    "### Question 3: Type Conversion\n",
    "Convert the string \"123\" to an integer and assign it to a variable named number. Print the type of number to confirm the conversion.\n"
   ]
  },
  {
   "cell_type": "code",
   "execution_count": 5,
   "id": "27531943-a25b-48f8-9309-3941a0fd5cd7",
   "metadata": {},
   "outputs": [
    {
     "name": "stdout",
     "output_type": "stream",
     "text": [
      "<class 'int'>\n"
     ]
    }
   ],
   "source": [
    "string=\"123\"\n",
    "number=int(string)\n",
    "print(type(number))"
   ]
  },
  {
   "cell_type": "markdown",
   "id": "f2793000-5f58-4f13-9b54-537524ae7516",
   "metadata": {},
   "source": [
    "### Question 4: String Concatenation\n",
    "Concatenate the following two strings: first_name and last_name into a full name and print the result. Assume the variables have already been defined.\n"
   ]
  },
  {
   "cell_type": "code",
   "execution_count": 23,
   "id": "e378434c-e6f8-4898-bd4a-6fd1ae28528b",
   "metadata": {},
   "outputs": [
    {
     "name": "stdout",
     "output_type": "stream",
     "text": [
      "Kuldeep  verma\n"
     ]
    }
   ],
   "source": [
    "first_name='Kuldeep'\n",
    "last_name='verma'\n",
    "full_name=\"{first_name}  {last_name}\".format(first_name=first_name,last_name=last_name)\n",
    "print(full_name)"
   ]
  },
  {
   "cell_type": "markdown",
   "id": "6b0cdbb9-eb1d-4963-8d82-cf13bbaaa6cb",
   "metadata": {},
   "source": [
    "### Question 5: Updating Variables\n",
    "Start with the variable score = 0. Add 5 to score, then multiply score by 3, and subtract 2. Print the final score.\n"
   ]
  },
  {
   "cell_type": "code",
   "execution_count": 26,
   "id": "cf2634b4-0678-4b63-a0e7-81274613de44",
   "metadata": {},
   "outputs": [
    {
     "name": "stdout",
     "output_type": "stream",
     "text": [
      "13\n"
     ]
    }
   ],
   "source": [
    "score=0\n",
    "score+=5\n",
    "score*=3\n",
    "score-=2\n",
    "print(score)"
   ]
  },
  {
   "cell_type": "markdown",
   "id": "314c70ac-fad3-4b17-bd4b-5fe8d01f53de",
   "metadata": {},
   "source": [
    "### Question 6: Boolean Variables\n",
    "Create a boolean variable is_sunny to represent if the weather is sunny or not. Set it to True if it is sunny and False otherwise. Print the variable.\n"
   ]
  },
  {
   "cell_type": "code",
   "execution_count": 28,
   "id": "32f84f1a-3e5e-42b2-a815-bad85e69ccd4",
   "metadata": {},
   "outputs": [
    {
     "name": "stdout",
     "output_type": "stream",
     "text": [
      "True\n",
      "False\n"
     ]
    }
   ],
   "source": [
    "is_sunny=True\n",
    "is_not_sunny=False\n",
    "print(is_sunny)\n",
    "print(is_not_sunny)"
   ]
  },
  {
   "cell_type": "markdown",
   "id": "76b507fb-822f-44cf-a0a3-661467373fb6",
   "metadata": {},
   "source": [
    "### Question 7: Variable Names\r\n",
    "Which of the following is an invalid variable name in Python? Why?\r\n",
    "•\ta) python3\r\n",
    "•\tb) 3_python\r\n",
    "•\tc) _user_name\r\n",
    "•\td) user-name\r\n"
   ]
  },
  {
   "cell_type": "markdown",
   "id": "fe53bd03-7cd8-43a8-80ec-bddc7070c303",
   "metadata": {},
   "source": [
    "###### b is invalid variable should not start with number"
   ]
  },
  {
   "cell_type": "markdown",
   "id": "93940b2d-51fb-4e1e-8119-e8eb35153695",
   "metadata": {},
   "source": [
    "###  Question 8: Swapping Values\r\n",
    "Swap the values of two variables x and y. If initially x = 10 and y = 5, ensure x becomes 5 and y becomes 10. Print the swapped values.\r\n"
   ]
  },
  {
   "cell_type": "code",
   "execution_count": 40,
   "id": "fd5199ba-cfb5-406d-b363-cd7149ad4fba",
   "metadata": {},
   "outputs": [
    {
     "name": "stdout",
     "output_type": "stream",
     "text": [
      "5\n",
      "10\n"
     ]
    }
   ],
   "source": [
    "x=10\n",
    "y=5\n",
    "z=x\n",
    "x=y\n",
    "y=z\n",
    "\n",
    "print(x)\n",
    "print(y)"
   ]
  },
  {
   "cell_type": "markdown",
   "id": "9d990d7b-d5ac-4695-a6f1-9e861b0a4add",
   "metadata": {},
   "source": [
    "### Question 9: User Input\n",
    "Write a program that asks the user for their name and their age. Print a message greeting them and mentioning how old they are.\n"
   ]
  },
  {
   "cell_type": "code",
   "execution_count": 43,
   "id": "8c3bf3b6-03d8-4e34-8bb8-b873276a6b42",
   "metadata": {},
   "outputs": [
    {
     "name": "stdin",
     "output_type": "stream",
     "text": [
      "enter name : kuldeep verma\n",
      "enter age: 22\n"
     ]
    },
    {
     "name": "stdout",
     "output_type": "stream",
     "text": [
      "name: kuldeep verma\n",
      "age : 22\n"
     ]
    }
   ],
   "source": [
    "name=input(\"enter name :\")\n",
    "age=int(input(\"enter age:\"))\n",
    "print(\"name:\" ,name)\n",
    "print(\"age :\",age)"
   ]
  },
  {
   "cell_type": "markdown",
   "id": "abb1dbef-1878-4877-a5a7-e2f03636ada4",
   "metadata": {},
   "source": [
    "### Question 10: Dynamic Typing\r\n",
    "Create a variable data and assign it an integer value. Then, reassign data to a string. Print the type of data before and after the reassignment.\r\n"
   ]
  },
  {
   "cell_type": "code",
   "execution_count": 44,
   "id": "e2e865ba-bf16-47e2-b92a-29b430d1a393",
   "metadata": {},
   "outputs": [
    {
     "name": "stdout",
     "output_type": "stream",
     "text": [
      "<class 'int'>\n",
      "<class 'str'>\n"
     ]
    }
   ],
   "source": [
    "data=10\n",
    "print(type(data))\n",
    "data=\"10\"\n",
    "print(type(data))"
   ]
  },
  {
   "cell_type": "code",
   "execution_count": null,
   "id": "73e5a0b8-0dab-4954-8d06-49f286447463",
   "metadata": {},
   "outputs": [],
   "source": []
  }
 ],
 "metadata": {
  "kernelspec": {
   "display_name": "Python 3 (ipykernel)",
   "language": "python",
   "name": "python3"
  },
  "language_info": {
   "codemirror_mode": {
    "name": "ipython",
    "version": 3
   },
   "file_extension": ".py",
   "mimetype": "text/x-python",
   "name": "python",
   "nbconvert_exporter": "python",
   "pygments_lexer": "ipython3",
   "version": "3.11.7"
  }
 },
 "nbformat": 4,
 "nbformat_minor": 5
}
