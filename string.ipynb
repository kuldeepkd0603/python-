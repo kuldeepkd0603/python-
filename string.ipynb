{
 "cells": [
  {
   "cell_type": "markdown",
   "id": "5446ba86-4013-4173-9c95-2c43dad4b4af",
   "metadata": {},
   "source": [
    "### Question 1: Creating Strings\n",
    "Assign the phrase \"Hello, World!\" to a variable named greeting. How do you create a string in Python?\n"
   ]
  },
  {
   "cell_type": "code",
   "execution_count": 1,
   "id": "f31a9b88-9ada-458d-8b39-26c253ba167c",
   "metadata": {},
   "outputs": [
    {
     "name": "stdout",
     "output_type": "stream",
     "text": [
      "hello world\n",
      "hello world\n"
     ]
    }
   ],
   "source": [
    "print('hello world')\n",
    "print(\"hello world\")"
   ]
  },
  {
   "cell_type": "markdown",
   "id": "acc9ecaf-06fb-4a30-8de1-0acd54f131df",
   "metadata": {},
   "source": [
    "### Question 2: String Length Concept\n",
    "How can you find out the number of characters in a string? Consider the string Python is fun!.\n"
   ]
  },
  {
   "cell_type": "code",
   "execution_count": 2,
   "id": "02bf4007-63ff-4a0f-ad91-0b5884c33ee7",
   "metadata": {},
   "outputs": [
    {
     "name": "stdout",
     "output_type": "stream",
     "text": [
      "63\n"
     ]
    }
   ],
   "source": [
    "string=\"http://localhost:8888/notebooks/Desktop%2Fpython%2Fstring.ipynb\"\n",
    "print(len(string))"
   ]
  },
  {
   "cell_type": "code",
   "execution_count": 3,
   "id": "f726a074-0a45-418b-b708-88af62c4ddc5",
   "metadata": {},
   "outputs": [
    {
     "name": "stdout",
     "output_type": "stream",
     "text": [
      "http://localhost:8888/notebooks/Desktop%2Fpython%2Fstring.ipynb\n"
     ]
    }
   ],
   "source": [
    "http=\"http\"\n",
    "symbol=\"://\"\n",
    "domain=\"localhost:8888\"\n",
    "path=\"/notebooks\"\n",
    "file=\"/Desktop%2Fpython%2Fstring.ipynb\"\n",
    "link=http+symbol+domain+path+file\n",
    "print(link)"
   ]
  },
  {
   "cell_type": "markdown",
   "id": "fd494b72-4b4e-4e63-8909-0025d6ab1284",
   "metadata": {},
   "source": [
    "### Question 4: Using Newline Characters\n",
    "What special character is used to create a new line in a string? Demonstrate by creating a string that spans multiple lines.\n"
   ]
  },
  {
   "cell_type": "code",
   "execution_count": 8,
   "id": "3a4ec2ee-c8a3-4d09-b61b-93872227b69c",
   "metadata": {},
   "outputs": [
    {
     "name": "stdout",
     "output_type": "stream",
     "text": [
      "Question 4: Using Newline Characters \n",
      " What special  character is used to create a new line in a string? \n",
      " Demonstrate by creating a string that spans multiple lines.\n"
     ]
    }
   ],
   "source": [
    "link=\"\"\"Question 4: Using Newline Characters \\n What special  character is used to create a new line in a string? \\n Demonstrate by creating a string that spans multiple lines.\"\"\"\n",
    "print(link)"
   ]
  },
  {
   "cell_type": "markdown",
   "id": "524c5cb4-3b26-4986-bcf9-2c6d8ab29cf9",
   "metadata": {},
   "source": [
    "### Question 5: Accessing String Characters\r\n",
    "How can you access a specific character in a string? Try to access the first character of the string Data\r\n"
   ]
  },
  {
   "cell_type": "code",
   "execution_count": 11,
   "id": "fe434692-e257-4583-befa-3aecd9418149",
   "metadata": {},
   "outputs": [
    {
     "name": "stdout",
     "output_type": "stream",
     "text": [
      "d\n",
      "p\n"
     ]
    }
   ],
   "source": [
    "name=\"kuldeep\"\n",
    "print(name[3])\n",
    "print(name[-1])"
   ]
  },
  {
   "cell_type": "markdown",
   "id": "229b09e2-239f-4f76-a3ab-6353aaa501da",
   "metadata": {},
   "source": [
    "### Question 6: Understanding String Slicing\n",
    "What is string slicing, and how can it be used to extract a portion of a string? Extract World from Hello, World!.\n"
   ]
  },
  {
   "cell_type": "code",
   "execution_count": 18,
   "id": "f5f546a8-b273-4343-8e6e-69a362f35519",
   "metadata": {},
   "outputs": [
    {
     "name": "stdout",
     "output_type": "stream",
     "text": [
      "kuldeep\n",
      "verma\n"
     ]
    }
   ],
   "source": [
    "full_name=\"kuldeep verma\"\n",
    "print(full_name[0:7])\n",
    "print(full_name[8:13])"
   ]
  },
  {
   "cell_type": "markdown",
   "id": "717599c6-3094-4586-961a-a3bda44d1ec1",
   "metadata": {},
   "source": [
    "### Question 7: Immutability of Strings\n",
    "Can you change a character in a string once it has been created? Try to change Hello to Jello.\n"
   ]
  },
  {
   "cell_type": "code",
   "execution_count": 27,
   "id": "fd9276dd-4743-4a25-a5be-064ea2815897",
   "metadata": {},
   "outputs": [
    {
     "ename": "TypeError",
     "evalue": "slice indices must be integers or None or have an __index__ method",
     "output_type": "error",
     "traceback": [
      "\u001b[1;31m---------------------------------------------------------------------------\u001b[0m",
      "\u001b[1;31mTypeError\u001b[0m                                 Traceback (most recent call last)",
      "Cell \u001b[1;32mIn[27], line 2\u001b[0m\n\u001b[0;32m      1\u001b[0m name\u001b[38;5;241m=\u001b[39m\u001b[38;5;124m\"\u001b[39m\u001b[38;5;124mhello\u001b[39m\u001b[38;5;124m\"\u001b[39m\n\u001b[1;32m----> 2\u001b[0m \u001b[38;5;28mprint\u001b[39m(name[\u001b[38;5;124m\"\u001b[39m\u001b[38;5;124mh\u001b[39m\u001b[38;5;124m\"\u001b[39m:\u001b[38;5;124m\"\u001b[39m\u001b[38;5;124mj\u001b[39m\u001b[38;5;124m\"\u001b[39m])\n",
      "\u001b[1;31mTypeError\u001b[0m: slice indices must be integers or None or have an __index__ method"
     ]
    }
   ],
   "source": [
    "name=\"hello\"\n",
    "print(name[\"h\":\"j\"])"
   ]
  },
  {
   "cell_type": "markdown",
   "id": "5c39f52b-86d7-4ca8-9f77-9c3aa690998e",
   "metadata": {},
   "source": [
    "### Question 8: The Significance of Escape Characters\n",
    "Besides \\n, what are other escape characters, and what do they do? Give an example using \\t (tab).\n"
   ]
  },
  {
   "cell_type": "code",
   "execution_count": 29,
   "id": "452f64e2-3393-4081-9440-66bc37c6bb44",
   "metadata": {},
   "outputs": [
    {
     "name": "stdout",
     "output_type": "stream",
     "text": [
      "Question 8: The Significance of Escape Characters\n",
      "Besides \n",
      ", what are other escape characters, and what do they do? Give an example using \t (tab).\n",
      "\n"
     ]
    }
   ],
   "source": [
    "text=\"\"\"Question 8: The Significance of Escape Characters\n",
    "Besides \\n, what are other escape characters, and what do they do? Give an example using \\t (tab).\n",
    "\"\"\"\n",
    "print(text)"
   ]
  },
  {
   "cell_type": "markdown",
   "id": "62766b3a-70f3-4d40-960f-4d71d5cbe099",
   "metadata": {},
   "source": [
    "### Question 1: Accessing the First Character\n",
    "How can you access the first character of the string Hello, world?\n"
   ]
  },
  {
   "cell_type": "code",
   "execution_count": 32,
   "id": "4ff204b7-11ac-412d-a9e7-d30a98dc2760",
   "metadata": {},
   "outputs": [
    {
     "data": {
      "text/plain": [
       "'h'"
      ]
     },
     "execution_count": 32,
     "metadata": {},
     "output_type": "execute_result"
    }
   ],
   "source": [
    "text=\"hello, world\"\n",
    "text[0]"
   ]
  },
  {
   "cell_type": "markdown",
   "id": "ccee9bb5-b233-4f6d-9d62-1e7cfd606571",
   "metadata": {},
   "source": [
    "### Question 2: Accessing the Last Character\n",
    "What is the method to access the last character of a string, such as in Goodbye?\n"
   ]
  },
  {
   "cell_type": "code",
   "execution_count": 33,
   "id": "77582371-29cd-4ece-ab88-c062d55fc8e0",
   "metadata": {},
   "outputs": [
    {
     "data": {
      "text/plain": [
       "'e'"
      ]
     },
     "execution_count": 33,
     "metadata": {},
     "output_type": "execute_result"
    }
   ],
   "source": [
    "text=\"goodbye\"\n",
    "text[-1]"
   ]
  },
  {
   "cell_type": "markdown",
   "id": "2f3e70e6-843f-499f-8677-83b1108210f5",
   "metadata": {},
   "source": [
    "### Question 3: Slicing a Substring\n",
    "Extract the word Hello from the string Hello, world.\n"
   ]
  },
  {
   "cell_type": "code",
   "execution_count": 41,
   "id": "d041f2f0-8d19-4fed-8dd8-b87eb484fc50",
   "metadata": {},
   "outputs": [
    {
     "data": {
      "text/plain": [
       "'Hello'"
      ]
     },
     "execution_count": 41,
     "metadata": {},
     "output_type": "execute_result"
    }
   ],
   "source": [
    "text=\"Hello, world\"\n",
    "text[0:5]"
   ]
  },
  {
   "cell_type": "markdown",
   "id": "c5d4648d-f6f9-4472-82f8-c81ad815d218",
   "metadata": {},
   "source": [
    "### Question 4: Reversing a String\n",
    "How can you reverse the string Python using slicing?\n"
   ]
  },
  {
   "cell_type": "code",
   "execution_count": 62,
   "id": "4db77fc0-92fe-482b-9f17-37105eb363ed",
   "metadata": {},
   "outputs": [
    {
     "data": {
      "text/plain": [
       "'nohtyp'"
      ]
     },
     "execution_count": 62,
     "metadata": {},
     "output_type": "execute_result"
    }
   ],
   "source": [
    "text=\"python\"\n",
    "text[::-1]"
   ]
  },
  {
   "cell_type": "markdown",
   "id": "1aaca573-4c47-4872-8fe9-a4cf8e582bbe",
   "metadata": {},
   "source": [
    "### Question 5: Skipping Characters in a Slice\n",
    "If you want to extract every other letter from abcdefghijk starting from a, how would you do that?\n",
    "Hint: The step parameter in slicing controls how many characters to skip.\n"
   ]
  },
  {
   "cell_type": "code",
   "execution_count": 72,
   "id": "264933b2-33f9-4528-95cf-0f0c9a98bf21",
   "metadata": {},
   "outputs": [
    {
     "data": {
      "text/plain": [
       "'acegik'"
      ]
     },
     "execution_count": 72,
     "metadata": {},
     "output_type": "execute_result"
    }
   ],
   "source": [
    "text=\"abcdefghijk\"\n",
    "text[::2]"
   ]
  },
  {
   "cell_type": "markdown",
   "id": "efaba67c-fde7-41d4-9208-2b9b0ce5148f",
   "metadata": {},
   "source": [
    "### Question 6: Default Values in Slicing\n",
    "What happens if you omit the start or the end value while slicing a string, such as [:5] or [3:] in Hello, world?\n"
   ]
  },
  {
   "cell_type": "markdown",
   "id": "34f4bf89-7567-496e-8d12-825439aa72fd",
   "metadata": {},
   "source": [
    "text=\"hello world\"\n",
    "print(text[:5])\n",
    "print(text[3:])"
   ]
  },
  {
   "cell_type": "markdown",
   "id": "2faf740a-7636-42ae-935a-5d5c32290c09",
   "metadata": {},
   "source": [
    "### Question 7: Negative Indices in Slicing\n",
    "Use negative indices to extract world from Hello, world.\n"
   ]
  },
  {
   "cell_type": "code",
   "execution_count": 87,
   "id": "d2fed14e-fbed-4778-b746-a5a87b9ef1a1",
   "metadata": {},
   "outputs": [
    {
     "data": {
      "text/plain": [
       "'world'"
      ]
     },
     "execution_count": 87,
     "metadata": {},
     "output_type": "execute_result"
    }
   ],
   "source": [
    "text=\"Hello, world\"\n",
    "text[7::1] #[start:end:step]"
   ]
  },
  {
   "cell_type": "markdown",
   "id": "a24fecdc-af86-49a7-918b-4dae43c4cd8b",
   "metadata": {},
   "source": [
    "### Question 8: Length of a Slice\n",
    "Without directly counting, how can you determine the length of the slice Hello from Hello, world?\n",
    "Hint: Consider using the len() function on your slice.\n"
   ]
  },
  {
   "cell_type": "code",
   "execution_count": 88,
   "id": "a051a3cc-ed79-4882-afb5-1504dbe0611d",
   "metadata": {},
   "outputs": [
    {
     "data": {
      "text/plain": [
       "'Hello'"
      ]
     },
     "execution_count": 88,
     "metadata": {},
     "output_type": "execute_result"
    }
   ],
   "source": [
    "text=\"Hello, world\"\n",
    "text[:len(\"hello\")]"
   ]
  },
  {
   "cell_type": "markdown",
   "id": "1a97e981-5949-423b-8dad-9e043907f0bf",
   "metadata": {},
   "source": [
    "### Question 9: Slicing with Out-of-range Indices\n",
    "What happens if you use a slice with an index that is out of range, such as [0:100] in Short?\n"
   ]
  },
  {
   "cell_type": "code",
   "execution_count": 90,
   "id": "3ba87f3f-222e-4639-8ad1-e00970119409",
   "metadata": {},
   "outputs": [],
   "source": [
    "## its print only available range element"
   ]
  },
  {
   "cell_type": "markdown",
   "id": "c94d91a1-29ad-4cba-a990-82de0cbf82c0",
   "metadata": {},
   "source": [
    "### Question 1: Finding a Substring\n",
    "How do you find the first occurrence of the substring \"Python\" in the string \"Learning Python with Python tutorials\"?\n"
   ]
  },
  {
   "cell_type": "code",
   "execution_count": 97,
   "id": "200a8011-ff65-41e5-b1dd-db9d28e854ef",
   "metadata": {},
   "outputs": [
    {
     "name": "stdout",
     "output_type": "stream",
     "text": [
      "9\n"
     ]
    }
   ],
   "source": [
    "text=\"Learning Python with Python tutorials\"\n",
    "print(text.find(\"Python\"))"
   ]
  },
  {
   "cell_type": "markdown",
   "id": "b8a1205d-ef49-4600-800a-f4f01bd35259",
   "metadata": {},
   "source": [
    "### Question 2: Counting Substring Occurrences\n",
    "How many times does the substring \"is\" appear in the string \"This is an island\"?\n",
    "Hint: There's a string method that returns the count of non-overlapping occurrences of a substring.\n"
   ]
  },
  {
   "cell_type": "code",
   "execution_count": 100,
   "id": "170807a7-1d61-4459-a08c-28f519d4ef81",
   "metadata": {},
   "outputs": [
    {
     "name": "stdout",
     "output_type": "stream",
     "text": [
      "2\n"
     ]
    }
   ],
   "source": [
    "text=\"This is an island\"\n",
    "print(text.count(\"is\"))"
   ]
  },
  {
   "cell_type": "markdown",
   "id": "7171f95f-911e-4ebb-8044-dd73df226d2f",
   "metadata": {},
   "source": [
    "### Question 3: Checking String Start\n",
    "Determine if the string \"Python programming is fun.\" starts with \"Python\".\n"
   ]
  },
  {
   "cell_type": "code",
   "execution_count": 102,
   "id": "ffa594ec-d683-41bf-be92-5a55e514c906",
   "metadata": {},
   "outputs": [
    {
     "name": "stdout",
     "output_type": "stream",
     "text": [
      "True\n"
     ]
    }
   ],
   "source": [
    "text=\"Python programming is fun\"\n",
    "print(text.startswith(\"Python\"))\n"
   ]
  },
  {
   "cell_type": "markdown",
   "id": "2a161b5d-4ee0-450f-b9f7-4b4b135211d0",
   "metadata": {},
   "source": [
    "### Question 4: Reversing Words Order\n",
    "Reverse the order of words in the sentence \"Hello World Python\" to \"Python World Hello\" without reversing the words themselves.\n"
   ]
  },
  {
   "cell_type": "code",
   "execution_count": 105,
   "id": "844ab2a8-d4f4-423e-aa6c-cd6c639abb49",
   "metadata": {},
   "outputs": [
    {
     "name": "stdout",
     "output_type": "stream",
     "text": [
      "Python World Hello\n"
     ]
    }
   ],
   "source": [
    "text=\"Hello World Python\"\n",
    "word=text.split()\n",
    "print(\" \".join(word[::-1]))"
   ]
  },
  {
   "cell_type": "markdown",
   "id": "bdd11518-e390-4b49-a103-53d4e23f2ffa",
   "metadata": {},
   "source": [
    "### Question 5: Modifying Letter Case\n",
    "Convert \"hello world\" to \"Hello World\" using a string method to capitalize the first letter of each word.\n"
   ]
  },
  {
   "cell_type": "code",
   "execution_count": 107,
   "id": "72416da8-3db7-4709-8e3c-b4f85feffb69",
   "metadata": {},
   "outputs": [
    {
     "data": {
      "text/plain": [
       "'Hello world'"
      ]
     },
     "execution_count": 107,
     "metadata": {},
     "output_type": "execute_result"
    }
   ],
   "source": [
    "text=\"hello world\"\n",
    "text.capitalize()"
   ]
  },
  {
   "cell_type": "markdown",
   "id": "26502fbc-a341-4c51-a82c-1ed7e901e9d1",
   "metadata": {},
   "source": [
    "### Question 6: Removing Leading Characters\n",
    "Remove all leading zeros from the string \"0001234\" to get \"1234\".\n"
   ]
  },
  {
   "cell_type": "code",
   "execution_count": 110,
   "id": "a4beddd1-e9e1-4117-be96-d8b47df05e6a",
   "metadata": {},
   "outputs": [
    {
     "data": {
      "text/plain": [
       "'1234'"
      ]
     },
     "execution_count": 110,
     "metadata": {},
     "output_type": "execute_result"
    }
   ],
   "source": [
    "text=\"0001234\"\n",
    "text.strip('0')"
   ]
  },
  {
   "cell_type": "markdown",
   "id": "823153ba-d1da-4ed8-ab1f-08f13fa56bbb",
   "metadata": {},
   "source": [
    "### Question 7: Checking Digit Characters\n",
    "Check if the string \"12345\" consists only of digit characters.\n"
   ]
  },
  {
   "cell_type": "code",
   "execution_count": 111,
   "id": "fe78b04f-5375-4cd6-833e-741629e37f20",
   "metadata": {},
   "outputs": [
    {
     "data": {
      "text/plain": [
       "False"
      ]
     },
     "execution_count": 111,
     "metadata": {},
     "output_type": "execute_result"
    }
   ],
   "source": [
    "text=\"12345\"\n",
    "\"0\" in text"
   ]
  },
  {
   "cell_type": "markdown",
   "id": "b77a728c-f1ee-43cd-b1d7-d0d4d214bded",
   "metadata": {},
   "source": [
    "### Question 8: Swapping Letter Case\n",
    "Swap the case of all letters in the string \"Python 3.9\" (uppercase to lowercase and vice versa).\n"
   ]
  },
  {
   "cell_type": "code",
   "execution_count": 112,
   "id": "4050ca8b-c963-4684-bd6d-6730f11d076e",
   "metadata": {},
   "outputs": [
    {
     "name": "stdout",
     "output_type": "stream",
     "text": [
      "PYTHON 3.9\n",
      "python 3.9\n"
     ]
    }
   ],
   "source": [
    "text= \"Python 3.9\"\n",
    "print(text.upper())\n",
    "print(text.lower())"
   ]
  },
  {
   "cell_type": "markdown",
   "id": "841d873b-6bba-4ba4-845c-c9f2c59bed0a",
   "metadata": {},
   "source": [
    "### Question 9: Joining with a Separator\n",
    "Create a comma-separated string from the list [\"apple\", \"banana\", \"cherry\"].\n"
   ]
  },
  {
   "cell_type": "code",
   "execution_count": 117,
   "id": "8777bdb8-6b42-492b-86db-9e26ad736116",
   "metadata": {},
   "outputs": [
    {
     "name": "stdout",
     "output_type": "stream",
     "text": [
      "apple banana cherry\n"
     ]
    }
   ],
   "source": [
    "list=[\"apple\", \"banana\", \"cherry\"]\n",
    "print(list[0] + \" \"+ list[1] +\" \" +list[2])"
   ]
  },
  {
   "cell_type": "markdown",
   "id": "e6cc703b-0370-4b4a-b047-a601a4d0cc31",
   "metadata": {},
   "source": [
    "### Question 10: Stripping Substring from Ends\n",
    "Given a string \"xxHello Worldxx\", remove the 'xx' from both the beginning and the end of the string.\n"
   ]
  },
  {
   "cell_type": "code",
   "execution_count": 119,
   "id": "8e674c61-9e50-441b-8593-c909373059fa",
   "metadata": {},
   "outputs": [
    {
     "data": {
      "text/plain": [
       "'Hello World'"
      ]
     },
     "execution_count": 119,
     "metadata": {},
     "output_type": "execute_result"
    }
   ],
   "source": [
    "text=\"xxHello Worldxx\"\n",
    "text.strip(\"xx\")"
   ]
  },
  {
   "cell_type": "code",
   "execution_count": null,
   "id": "d84d67d0-7d4d-45bf-a712-123fd862a359",
   "metadata": {},
   "outputs": [],
   "source": []
  }
 ],
 "metadata": {
  "kernelspec": {
   "display_name": "Python 3 (ipykernel)",
   "language": "python",
   "name": "python3"
  },
  "language_info": {
   "codemirror_mode": {
    "name": "ipython",
    "version": 3
   },
   "file_extension": ".py",
   "mimetype": "text/x-python",
   "name": "python",
   "nbconvert_exporter": "python",
   "pygments_lexer": "ipython3",
   "version": "3.11.7"
  }
 },
 "nbformat": 4,
 "nbformat_minor": 5
}
