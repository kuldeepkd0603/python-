{
 "cells": [
  {
   "cell_type": "markdown",
   "id": "85c756d4-434e-4366-bd1c-9bc787485372",
   "metadata": {},
   "source": [
    "### Question 1: Write a loop with a break statement to stop the loop after 5 iterations.\n",
    "Hint: Use a counter variable within the loop and a break statement when the counter reaches 5.\n"
   ]
  },
  {
   "cell_type": "code",
   "execution_count": 2,
   "id": "5f374791-a0d9-4735-a4bd-ddacc1c6701b",
   "metadata": {},
   "outputs": [
    {
     "name": "stdout",
     "output_type": "stream",
     "text": [
      "0\n",
      "1\n",
      "2\n",
      "3\n",
      "4\n"
     ]
    }
   ],
   "source": [
    "count=0\n",
    "while count<5:\n",
    "    print(count)\n",
    "    \n",
    "    count=count+1\n"
   ]
  },
  {
   "cell_type": "markdown",
   "id": "17e52332-c9ef-498b-bd75-ccb93e7eff1a",
   "metadata": {},
   "source": [
    "### Question 2: Use a loop and a continue statement to print only odd numbers up to 10.\n",
    "Hint: Check if a number is odd using the modulus operator; use continue to skip even numbers.\n"
   ]
  },
  {
   "cell_type": "code",
   "execution_count": 6,
   "id": "606524db-6340-490e-a5fe-49731301cb31",
   "metadata": {},
   "outputs": [
    {
     "name": "stdout",
     "output_type": "stream",
     "text": [
      "1\n",
      "3\n",
      "5\n",
      "7\n",
      "9\n"
     ]
    }
   ],
   "source": [
    "for i in range(1,10):\n",
    "    if i%2!=0:\n",
    "        print(i)\n",
    "    else:\n",
    "        continue\n",
    "    "
   ]
  },
  {
   "cell_type": "markdown",
   "id": "284c82b4-c4b4-40f2-9771-5d7cd1c68d22",
   "metadata": {},
   "source": [
    "### Question 3: Implement a loop that iterates through a string and uses continue to skip the letter 'a'.\n",
    "Hint: Use an if statement within the loop to check for 'a' and continue to the next iteration if found.\n"
   ]
  },
  {
   "cell_type": "code",
   "execution_count": 5,
   "id": "9bc97b4b-22ba-4e84-a6ef-28d95b62a5d0",
   "metadata": {},
   "outputs": [
    {
     "name": "stdout",
     "output_type": "stream",
     "text": [
      "I\n",
      "m\n",
      "p\n",
      "l\n",
      "e\n",
      "m\n",
      "e\n",
      "n\n",
      "t\n",
      " \n",
      " \n"
     ]
    }
   ],
   "source": [
    "string=\"Implement a \"\n",
    "for char in string:\n",
    "    if char==\"a\":\n",
    "        continue\n",
    "    print(char)"
   ]
  },
  {
   "cell_type": "markdown",
   "id": "00075889-ab80-4b93-8d0c-b8903d75d3c0",
   "metadata": {},
   "source": [
    "### Question 4: Create a while loop that breaks out when a user inputs 'exit'.\n",
    "Hint: Inside the loop, check the user input and break if it matches 'exit'.\n"
   ]
  },
  {
   "cell_type": "code",
   "execution_count": 1,
   "id": "791d303d-07e2-4fd5-a7fa-10cff46a663d",
   "metadata": {},
   "outputs": [
    {
     "name": "stdin",
     "output_type": "stream",
     "text": [
      "Enter something (type 'exit' to quit):  kul\n"
     ]
    },
    {
     "name": "stdout",
     "output_type": "stream",
     "text": [
      "You entered: kul\n"
     ]
    },
    {
     "name": "stdin",
     "output_type": "stream",
     "text": [
      "Enter something (type 'exit' to quit):  ki\n"
     ]
    },
    {
     "name": "stdout",
     "output_type": "stream",
     "text": [
      "You entered: ki\n"
     ]
    },
    {
     "name": "stdin",
     "output_type": "stream",
     "text": [
      "Enter something (type 'exit' to quit):  exit\n"
     ]
    },
    {
     "name": "stdout",
     "output_type": "stream",
     "text": [
      "Exiting the loop. Goodbye!\n"
     ]
    }
   ],
   "source": [
    "while True:\n",
    "    user_input = input(\"Enter something (type 'exit' to quit): \")\n",
    "    if user_input.lower() == 'exit':\n",
    "        print(\"Exiting the loop. Goodbye!\")\n",
    "        break\n",
    "    else:\n",
    "        print(f\"You entered: {user_input}\")\n"
   ]
  },
  {
   "cell_type": "markdown",
   "id": "b4f22273-596b-4026-a0c3-8c9ca19e929b",
   "metadata": {},
   "source": [
    "### Question 5: Write a for loop that iterates over a list of numbers and ends the loop using break if it finds a number greater than 100.\n",
    "Hint: Use a break statement within an if condition that checks for numbers greater than 100\n"
   ]
  },
  {
   "cell_type": "code",
   "execution_count": 3,
   "id": "0806a6a4-f11f-4f07-acfe-d02141692ac4",
   "metadata": {},
   "outputs": [
    {
     "name": "stdout",
     "output_type": "stream",
     "text": [
      "1\n",
      "2\n",
      "4\n",
      "24\n"
     ]
    }
   ],
   "source": [
    "list=[1,2,4,24,244,24,345,345,34,24,34]\n",
    "for i in range(len(list)):\n",
    "    if list[i]>100:\n",
    "        break\n",
    "    else:\n",
    "        print(list[i])"
   ]
  },
  {
   "cell_type": "markdown",
   "id": "b6416e31-57a7-49ba-bf52-1645f6d27f83",
   "metadata": {},
   "source": [
    "### Question 6: Use a nested loop to find and print the first pair of factors of a given number, then break out of the loop.\n",
    "Hint: Inside the nested loop, use a break statement within an if condition that checks if the product of the factors equals the given number.\n"
   ]
  },
  {
   "cell_type": "code",
   "execution_count": 7,
   "id": "9859419a-5a8c-4495-a64f-37fc1fe24d83",
   "metadata": {},
   "outputs": [
    {
     "name": "stdout",
     "output_type": "stream",
     "text": [
      "1 1203\n",
      "3 401\n"
     ]
    }
   ],
   "source": [
    "number=1203\n",
    "for i in range(1,number+1):\n",
    "    for j in range(i,number+1):\n",
    "        if i*j==number:\n",
    "            print(i,j)\n",
    "            break\n",
    "        else:\n",
    "            continue\n",
    "        break\n",
    "        \n"
   ]
  },
  {
   "cell_type": "markdown",
   "id": "784e3b91-6321-4fd4-af5e-25a9ae532a28",
   "metadata": {},
   "source": [
    "### Question 7: Implement a loop that continuously prompts the user for input until they provide a valid integer, using a try-except block to catch invalid inputs.\n",
    "Hint: Use an infinite loop with a break statement when a valid integer is successfully converted.\n"
   ]
  },
  {
   "cell_type": "code",
   "execution_count": null,
   "id": "7ea89701-96c5-4d45-aa1e-c8822dc65e3f",
   "metadata": {},
   "outputs": [],
   "source": []
  }
 ],
 "metadata": {
  "kernelspec": {
   "display_name": "Python 3 (ipykernel)",
   "language": "python",
   "name": "python3"
  },
  "language_info": {
   "codemirror_mode": {
    "name": "ipython",
    "version": 3
   },
   "file_extension": ".py",
   "mimetype": "text/x-python",
   "name": "python",
   "nbconvert_exporter": "python",
   "pygments_lexer": "ipython3",
   "version": "3.11.7"
  }
 },
 "nbformat": 4,
 "nbformat_minor": 5
}
