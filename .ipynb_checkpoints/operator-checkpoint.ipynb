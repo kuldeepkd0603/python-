{
 "cells": [
  {
   "cell_type": "markdown",
   "id": "0984bd11-3deb-4228-a70d-a3c9a5fa74af",
   "metadata": {},
   "source": [
    "### Question:\n",
    "What result do you get when you use the modulus operator `%` on `10 % 3`?\n"
   ]
  },
  {
   "cell_type": "code",
   "execution_count": 2,
   "id": "52f7c6ce-d67b-462a-ab7a-3b8e61f49784",
   "metadata": {},
   "outputs": [
    {
     "name": "stdout",
     "output_type": "stream",
     "text": [
      "1\n"
     ]
    }
   ],
   "source": [
    "print(10%3) ## its give me reminder "
   ]
  },
  {
   "cell_type": "markdown",
   "id": "09f91085-7ad6-4a74-a6e2-6b9032bb4837",
   "metadata": {},
   "source": [
    "### Question:\n",
    "Evaluate whether `5 * 2` is greater than `9`.\n"
   ]
  },
  {
   "cell_type": "code",
   "execution_count": 5,
   "id": "6aee5f84-c6d8-4a8c-96a9-50ae0285536c",
   "metadata": {},
   "outputs": [
    {
     "name": "stdout",
     "output_type": "stream",
     "text": [
      "True\n"
     ]
    }
   ],
   "source": [
    "print(5*2>9)"
   ]
  },
  {
   "cell_type": "markdown",
   "id": "fdf6e2e5-55a9-4e05-b6b5-7df538eb5bf1",
   "metadata": {},
   "source": [
    "### Question:\n",
    "Given two boolean values, `a = True` and `b = False`, what is the result of `a and b`?\n"
   ]
  },
  {
   "cell_type": "code",
   "execution_count": 6,
   "id": "adbab6c7-8c3c-44f4-ac83-d2cf40ef1589",
   "metadata": {},
   "outputs": [
    {
     "name": "stdout",
     "output_type": "stream",
     "text": [
      "False\n"
     ]
    }
   ],
   "source": [
    "a = True\n",
    "b = False\n",
    "print(a and b)"
   ]
  },
  {
   "cell_type": "markdown",
   "id": "f5d6df23-50d2-401a-bb0b-cd6a5efced38",
   "metadata": {},
   "source": [
    "### Question:\n",
    "Use the `+=` operator to add `5` to a variable `x` initialized as `10`. What is the new value of `x`?\n"
   ]
  },
  {
   "cell_type": "code",
   "execution_count": 7,
   "id": "44f47a58-3e5c-4968-a8dc-f2c1c23fec19",
   "metadata": {},
   "outputs": [
    {
     "name": "stdout",
     "output_type": "stream",
     "text": [
      "15\n"
     ]
    }
   ],
   "source": [
    "x=10\n",
    "x+=5\n",
    "print(x)"
   ]
  },
  {
   "cell_type": "markdown",
   "id": "2547ddf7-50b2-4d15-b316-17d304402ad8",
   "metadata": {},
   "source": [
    "### Question:\n",
    "How do you check if two variables `a = [1,2,3]` and `b = [1,2,3]` reference the same object in memory?\n"
   ]
  },
  {
   "cell_type": "code",
   "execution_count": 9,
   "id": "1809575c-0e79-48b9-a61a-ee2d40717519",
   "metadata": {},
   "outputs": [
    {
     "name": "stdout",
     "output_type": "stream",
     "text": [
      "False\n"
     ]
    }
   ],
   "source": [
    "a = [1,2,3]\n",
    "b = [1,2,3]\n",
    "print(a is b)"
   ]
  },
  {
   "cell_type": "markdown",
   "id": "82c0b63e-4e06-4275-bdad-7e0781ec3db1",
   "metadata": {},
   "source": [
    "### Question:\r\n",
    "Determine if `3` is a member of the list `[1, 2, 3, 4]`.\r\n"
   ]
  },
  {
   "cell_type": "code",
   "execution_count": 10,
   "id": "d61a4691-ed15-46a2-b56b-0678d75f1a6a",
   "metadata": {},
   "outputs": [
    {
     "name": "stdout",
     "output_type": "stream",
     "text": [
      "True\n"
     ]
    }
   ],
   "source": [
    "list=[1, 2, 3, 4]\n",
    "print(3 in list)"
   ]
  },
  {
   "cell_type": "markdown",
   "id": "fbfa4888-5227-494a-88a0-c6c3ee6f63de",
   "metadata": {},
   "source": [
    "### Question:\n",
    "What is the result of the bitwise AND operation `12 & 5`?\n"
   ]
  },
  {
   "cell_type": "code",
   "execution_count": 11,
   "id": "18f04434-323e-4063-9218-e3e1d2a59b17",
   "metadata": {},
   "outputs": [
    {
     "name": "stdout",
     "output_type": "stream",
     "text": [
      "4\n"
     ]
    }
   ],
   "source": [
    "print(12 & 5)"
   ]
  },
  {
   "cell_type": "code",
   "execution_count": null,
   "id": "48917c91-a491-40f1-ac9b-e2f487ec598c",
   "metadata": {},
   "outputs": [],
   "source": [
    " "
   ]
  }
 ],
 "metadata": {
  "kernelspec": {
   "display_name": "Python 3 (ipykernel)",
   "language": "python",
   "name": "python3"
  },
  "language_info": {
   "codemirror_mode": {
    "name": "ipython",
    "version": 3
   },
   "file_extension": ".py",
   "mimetype": "text/x-python",
   "name": "python",
   "nbconvert_exporter": "python",
   "pygments_lexer": "ipython3",
   "version": "3.11.7"
  }
 },
 "nbformat": 4,
 "nbformat_minor": 5
}
