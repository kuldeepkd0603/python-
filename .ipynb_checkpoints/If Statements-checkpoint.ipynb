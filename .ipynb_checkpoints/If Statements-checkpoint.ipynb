{
 "cells": [
  {
   "cell_type": "markdown",
   "id": "f26ed97e-8474-44db-b356-6f99e14a2c00",
   "metadata": {
    "jp-MarkdownHeadingCollapsed": true
   },
   "source": [
    "### Coding Question:\n",
    "Write an if statement to check if a number is positive, and print 'Positive' if it is.\n"
   ]
  },
  {
   "cell_type": "code",
   "execution_count": 3,
   "id": "42750d11-ec60-4e76-9449-6365f992c07c",
   "metadata": {},
   "outputs": [
    {
     "name": "stdin",
     "output_type": "stream",
     "text": [
      "enter number 0\n"
     ]
    },
    {
     "name": "stdout",
     "output_type": "stream",
     "text": [
      "negative\n"
     ]
    }
   ],
   "source": [
    "a= int(input(\"enter number\"))\n",
    "if a>0:\n",
    "    print(\"number is positive\")\n",
    "else:\n",
    "    print(\"negative\")"
   ]
  },
  {
   "cell_type": "markdown",
   "id": "76c88d99-7d0f-4dc8-837c-3fa8f2729e5e",
   "metadata": {
    "jp-MarkdownHeadingCollapsed": true
   },
   "source": [
    "### Hint:\n",
    "Use `if number > 0:` to check if the number is greater than zero.\n"
   ]
  },
  {
   "cell_type": "markdown",
   "id": "c2564d23-ee01-4760-8f4f-63dd1d720bb2",
   "metadata": {
    "jp-MarkdownHeadingCollapsed": true
   },
   "source": [
    "### Coding Question:\n",
    "Determine if a number is odd or even, and print the result\n"
   ]
  },
  {
   "cell_type": "code",
   "execution_count": 6,
   "id": "0a60024a-71c0-4cb3-a435-9d7344c09bf5",
   "metadata": {},
   "outputs": [
    {
     "name": "stdin",
     "output_type": "stream",
     "text": [
      "enter number 120\n"
     ]
    },
    {
     "name": "stdout",
     "output_type": "stream",
     "text": [
      "number is even\n"
     ]
    }
   ],
   "source": [
    "a =int(input(\"enter number\"))\n",
    "if a%2==0:\n",
    "    print(\"number is even\")\n",
    "else:\n",
    "    print(\"number is odd\")\n"
   ]
  },
  {
   "cell_type": "markdown",
   "id": "564b5a64-1007-413e-9341-d25ca4093fa0",
   "metadata": {
    "jp-MarkdownHeadingCollapsed": true
   },
   "source": [
    "### Coding Question:\n",
    "Check if a number is within the range of 1 to 10 inclusive.\n"
   ]
  },
  {
   "cell_type": "code",
   "execution_count": 8,
   "id": "2629c9d2-ed5c-4eec-a571-b615b39ed490",
   "metadata": {},
   "outputs": [
    {
     "name": "stdin",
     "output_type": "stream",
     "text": [
      "enter number 5\n"
     ]
    },
    {
     "name": "stdout",
     "output_type": "stream",
     "text": [
      "number is with in range \n"
     ]
    }
   ],
   "source": [
    "a =int(input(\"enter number\"))\n",
    "if a>0 and a<10:\n",
    "    print(\"number is with in range \")\n",
    "else:\n",
    "    print(\"number is not with in range\")"
   ]
  },
  {
   "cell_type": "markdown",
   "id": "c5dbfbb0-4cee-4857-b2fd-12a5bc9a65c8",
   "metadata": {},
   "source": [
    "### Coding Question:\n",
    "Write an if-elif-else statement that prints 'Small' for numbers less than 10, 'Medium' for numbers between 10 and 20 inclusive, and 'Large' for numbers greater than 20.\n"
   ]
  },
  {
   "cell_type": "code",
   "execution_count": 10,
   "id": "f855e893-e792-4147-82e2-0091b3efbbcb",
   "metadata": {},
   "outputs": [
    {
     "name": "stdin",
     "output_type": "stream",
     "text": [
      "enter number 2\n"
     ]
    },
    {
     "name": "stdout",
     "output_type": "stream",
     "text": [
      "Small' for numbers less than 10\n"
     ]
    }
   ],
   "source": [
    "a =int(input(\"enter number\"))\n",
    "if a<10:\n",
    "    print(\"Small' for numbers less than 10\")\n",
    "elif a>10 and a<20:\n",
    "    print(\"Small' for numbers less than 10\")\n",
    "else:\n",
    "    print(\"'Large' for numbers greater than 20\")"
   ]
  },
  {
   "cell_type": "markdown",
   "id": "a34c1c37-1e4c-43b7-953a-ec920651c034",
   "metadata": {},
   "source": [
    "### Coding Question:\n",
    "Given a list, print 'List is not empty' if it contains at least one element.\n"
   ]
  },
  {
   "cell_type": "code",
   "execution_count": 18,
   "id": "57ccb811-4f06-4518-a6a2-9fba25b0fdce",
   "metadata": {},
   "outputs": [
    {
     "name": "stdout",
     "output_type": "stream",
     "text": [
      "List is not empty if it contains  3 element\n"
     ]
    }
   ],
   "source": [
    "list=[1,2,3]\n",
    "if len(list)>0:\n",
    "    print(\"List is not empty if it contains  {length} element\".format(length=len(list)))\n",
    "else:\n",
    "    print(\"list is empty it is not contain any element\")"
   ]
  },
  {
   "cell_type": "markdown",
   "id": "39b24497-b353-47fb-be0f-ae373f4de77b",
   "metadata": {},
   "source": [
    "### Coding Question:\n",
    "If a string is longer than 10 characters, print 'Long string', otherwise print 'Short string'.\n"
   ]
  },
  {
   "cell_type": "code",
   "execution_count": 21,
   "id": "76edf449-4a29-4950-a5eb-a91926200dbe",
   "metadata": {},
   "outputs": [
    {
     "name": "stdin",
     "output_type": "stream",
     "text": [
      "enter string  kul        \n"
     ]
    },
    {
     "name": "stdout",
     "output_type": "stream",
     "text": [
      "Long string\n"
     ]
    }
   ],
   "source": [
    "list=str(input(\"enter string \"))\n",
    "if len(list)>10:\n",
    "    print(\"Long string\")\n",
    "else:\n",
    "    print(\"Short string\")\n",
    "\n"
   ]
  },
  {
   "cell_type": "markdown",
   "id": "aa4e396f-d61d-468e-8236-a48921f0153f",
   "metadata": {},
   "source": [
    "### Coding Question:\r\n",
    "Check if a year is a leap year.\r\n"
   ]
  },
  {
   "cell_type": "code",
   "execution_count": 26,
   "id": "6793b4cb-d115-4f7d-be76-fa9c6d4eb740",
   "metadata": {},
   "outputs": [
    {
     "name": "stdin",
     "output_type": "stream",
     "text": [
      "enter year 2028\n"
     ]
    },
    {
     "name": "stdout",
     "output_type": "stream",
     "text": [
      "A year is a leap year \n"
     ]
    }
   ],
   "source": [
    "year=int(input(\"enter year\"))\n",
    "if year%4==0:\n",
    "    print(\"A year is a leap year \")\n",
    "else:\n",
    "    print(\"yerar is not leap year\")\n",
    "    "
   ]
  },
  {
   "cell_type": "markdown",
   "id": "ee65e8c1-12eb-417a-8a3e-9a8896aedb19",
   "metadata": {},
   "source": [
    "### Coding Question:\n",
    "Given a character, check if it is a vowel or consonant.\n"
   ]
  },
  {
   "cell_type": "code",
   "execution_count": 28,
   "id": "f90a33f7-d6f4-4c8e-9a3b-39c723c88541",
   "metadata": {},
   "outputs": [
    {
     "name": "stdin",
     "output_type": "stream",
     "text": [
      "enter character  ae\n"
     ]
    },
    {
     "name": "stdout",
     "output_type": "stream",
     "text": [
      "it is consonant\n"
     ]
    }
   ],
   "source": [
    "character=str(input(\"enter character \"))\n",
    "vovel=[\"a\",\"e\",\"i\",\"o\",\"u\",\"A\",\"E\",\"I\",\"O\",\"U\"]\n",
    "if character in vovel:\n",
    "    print(\"it is vovel\")\n",
    "else:\n",
    "    print(\"it is consonant\")"
   ]
  },
  {
   "cell_type": "markdown",
   "id": "1fc3996c-b167-4614-8031-7522bdbda923",
   "metadata": {},
   "source": [
    "### Coding Question:\r\n",
    "Write a program that checks if a variable `a` is greater than `b`, equal to `b`, or less than `b`, and prints the appropriate message.\r\n"
   ]
  },
  {
   "cell_type": "code",
   "execution_count": 32,
   "id": "a9810f0d-719a-4636-ace6-326cb7910eaf",
   "metadata": {},
   "outputs": [
    {
     "name": "stdin",
     "output_type": "stream",
     "text": [
      "enter number 56\n",
      "enter number 5\n"
     ]
    },
    {
     "name": "stdout",
     "output_type": "stream",
     "text": [
      "a is greater than b\n"
     ]
    }
   ],
   "source": [
    "a =int(input(\"enter number\"))\n",
    "b =int(input(\"enter number\"))\n",
    "if a>b:\n",
    "    print(\"a is greater than b\")\n",
    "elif a==b:\n",
    "    print(\"a is equal to b\")\n",
    "else:\n",
    "    print(\"a or less than b \")\n"
   ]
  },
  {
   "cell_type": "markdown",
   "id": "ea806938-25a8-46a6-ab56-a49991c401f7",
   "metadata": {},
   "source": [
    "### Coding Question:\n",
    "Check if a given number is positive, negative, or zero, and print the result\n"
   ]
  },
  {
   "cell_type": "code",
   "execution_count": 35,
   "id": "b3a85e57-671b-4f8e-97bb-62a81ebccc90",
   "metadata": {},
   "outputs": [
    {
     "name": "stdin",
     "output_type": "stream",
     "text": [
      "enter number 0\n"
     ]
    },
    {
     "name": "stdout",
     "output_type": "stream",
     "text": [
      "number id equal to zero\n"
     ]
    }
   ],
   "source": [
    "a =int(input(\"enter number\"))\n",
    "if a<0:\n",
    "    print(\"number is negative\")\n",
    "elif a==0:\n",
    "    print(\"number is equal to zero\")\n",
    "    \n",
    "else:\n",
    "    print(\"number is positive\")"
   ]
  },
  {
   "cell_type": "code",
   "execution_count": null,
   "id": "64a09a41-8375-4ac0-adab-0b9d8f9153b3",
   "metadata": {},
   "outputs": [],
   "source": []
  }
 ],
 "metadata": {
  "kernelspec": {
   "display_name": "Python 3 (ipykernel)",
   "language": "python",
   "name": "python3"
  },
  "language_info": {
   "codemirror_mode": {
    "name": "ipython",
    "version": 3
   },
   "file_extension": ".py",
   "mimetype": "text/x-python",
   "name": "python",
   "nbconvert_exporter": "python",
   "pygments_lexer": "ipython3",
   "version": "3.11.7"
  }
 },
 "nbformat": 4,
 "nbformat_minor": 5
}
