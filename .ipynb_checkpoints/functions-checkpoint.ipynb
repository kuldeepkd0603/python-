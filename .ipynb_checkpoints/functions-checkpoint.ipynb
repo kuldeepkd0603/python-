{
 "cells": [
  {
   "cell_type": "markdown",
   "id": "4e091513-2256-42ff-9af7-309a66ad3f63",
   "metadata": {},
   "source": [
    "### Question 1: Write a function named `greet` that prints 'Hello, World!'.\n",
    "Hint: Define the function with `def` and no parameters. Use `print` inside the function.\n"
   ]
  },
  {
   "cell_type": "code",
   "execution_count": 2,
   "id": "351f182c-cd04-4386-ab18-24cab93cbc73",
   "metadata": {},
   "outputs": [
    {
     "name": "stdout",
     "output_type": "stream",
     "text": [
      "Hello, World!'\n"
     ]
    }
   ],
   "source": [
    "def greet():\n",
    "    print(\"Hello, World!'\")\n",
    "greet()"
   ]
  },
  {
   "cell_type": "markdown",
   "id": "8b7e1259-3d56-4c4b-ae6e-b469cdc053c7",
   "metadata": {},
   "source": [
    "### Question 2: Create a function `add` that takes two parameters and returns their sum.\n",
    "Hint: The function should have two parameters and use the return statement to give back the sum.\n"
   ]
  },
  {
   "cell_type": "code",
   "execution_count": 3,
   "id": "fbee893d-3407-4231-8f9b-9171625c3fb1",
   "metadata": {},
   "outputs": [
    {
     "data": {
      "text/plain": [
       "3"
      ]
     },
     "execution_count": 3,
     "metadata": {},
     "output_type": "execute_result"
    }
   ],
   "source": [
    "def sum(a,b):\n",
    "    return a+b\n",
    "sum(1,2)"
   ]
  },
  {
   "cell_type": "markdown",
   "id": "d12847a6-8814-461c-8a29-b56e9668ef0d",
   "metadata": {},
   "source": [
    "### Question 3: Implement a function `is_even` that returns `True` if a number is even, otherwise `False`.\n",
    "Hint: Use the modulus operator to check for evenness and return the boolean result.\n"
   ]
  },
  {
   "cell_type": "code",
   "execution_count": 5,
   "id": "350063a2-089c-4b77-a521-89c7e8e0bed4",
   "metadata": {},
   "outputs": [
    {
     "data": {
      "text/plain": [
       "False"
      ]
     },
     "execution_count": 5,
     "metadata": {},
     "output_type": "execute_result"
    }
   ],
   "source": [
    "def is_even(a):\n",
    "    if a%2==0:\n",
    "        return True\n",
    "    else:\n",
    "        return False\n",
    "is_even(143)"
   ]
  },
  {
   "cell_type": "markdown",
   "id": "d57e5ccd-dfc6-4d2d-b370-69367aa4eba6",
   "metadata": {},
   "source": [
    "### Question 4: Define a function `max_of_two` that takes two numbers and returns the larger one.\n",
    "Hint: Use an if-else statement inside the function to compare the two numbers\n"
   ]
  },
  {
   "cell_type": "code",
   "execution_count": 11,
   "id": "f13c10f1-eeac-4537-9f50-f97016791285",
   "metadata": {},
   "outputs": [
    {
     "data": {
      "text/plain": [
       "35"
      ]
     },
     "execution_count": 11,
     "metadata": {},
     "output_type": "execute_result"
    }
   ],
   "source": [
    "def max_of_two(a,b):\n",
    "    if a>b:\n",
    "        return a\n",
    "    else:\n",
    "        return b\n",
    "max_of_two(12,35)"
   ]
  },
  {
   "cell_type": "markdown",
   "id": "07c88e40-6a72-45ef-9e4c-28d33e932992",
   "metadata": {},
   "source": [
    "### Question 5: Write a function `factorial` that computes the factorial of a number and returns it.\n",
    "Hint: Use a loop inside the function to calculate the factorial, starting from 1.\n"
   ]
  },
  {
   "cell_type": "code",
   "execution_count": 14,
   "id": "26e51da5-ff95-48ce-bc67-aeee7aa709fb",
   "metadata": {},
   "outputs": [
    {
     "name": "stdout",
     "output_type": "stream",
     "text": [
      "The factorial of 5 is 120\n"
     ]
    }
   ],
   "source": [
    "def factorial(n):\n",
    "    if n < 0:\n",
    "        return \"Factorial is not defined for negative numbers.\"\n",
    "    elif n == 0 or n == 1:\n",
    "        return 1\n",
    "    else:\n",
    "        return n * factorial(n - 1)\n",
    "\n",
    "number = 5 \n",
    "print(f\"The factorial of {number} is {factorial(number)}\")\n"
   ]
  },
  {
   "cell_type": "markdown",
   "id": "458d1dd2-e5b7-4ae1-a078-ed05e33d41e4",
   "metadata": {},
   "source": [
    "### Question 6: Create a function `count_vowels` that counts and returns the number of vowels in a string.\n",
    "Hint: Loop through the string inside the function and check each character against a set of vowels.\n"
   ]
  },
  {
   "cell_type": "code",
   "execution_count": 15,
   "id": "fd64a78c-6a06-48c7-8ad7-b0c86eed5cc1",
   "metadata": {},
   "outputs": [
    {
     "name": "stdout",
     "output_type": "stream",
     "text": [
      "3\n"
     ]
    }
   ],
   "source": [
    "def count_vovels(n):\n",
    "    vovel={\"a\",\"e\",\"i\",\"o\",\"u\",\"A\",\"E\",\"I\",\"O\",\"U\"}\n",
    "    count=0\n",
    "    for char in n:\n",
    "        if char in vovel:\n",
    "            count=count+1\n",
    "            \n",
    "    return count\n",
    "print(count_vovels(\"kuldeep\"))"
   ]
  },
  {
   "cell_type": "markdown",
   "id": "4ed79713-27c6-4da0-95b3-41fc800bf616",
   "metadata": {},
   "source": [
    "### Question 7: Implement a function `fibonacci` that returns the nth Fibonacci number.\n",
    "Hint: Use recursion or iteration inside the function to calculate the Fibonacci sequence.\n"
   ]
  },
  {
   "cell_type": "code",
   "execution_count": 27,
   "id": "adea8edf-c553-4638-8f31-9bb19440d9eb",
   "metadata": {},
   "outputs": [
    {
     "name": "stdout",
     "output_type": "stream",
     "text": [
      "55\n"
     ]
    }
   ],
   "source": [
    "def fibonacci(n):\n",
    "    if n<0:\n",
    "        return \"Input should be a non-negative integer.\"\n",
    "    elif n==0:\n",
    "        return 0\n",
    "    elif n==1:\n",
    "        return 1\n",
    "    else :\n",
    "        return fibonacci(n-1) + fibonacci(n-2)\n",
    "    \n",
    "print(fibonacci(10))"
   ]
  },
  {
   "cell_type": "markdown",
   "id": "1653d564-66fd-48bf-ba1c-84a33f28b6e5",
   "metadata": {},
   "source": [
    "### Question 8: Write a function `is_prime` that checks if a number is prime and returns `True` or `False`.\n",
    "Hint: Check divisibility of the number by iterating from 2 to the square root of the number.\n"
   ]
  },
  {
   "cell_type": "code",
   "execution_count": 40,
   "id": "e6c1df34-d511-4e1d-b391-ac692d57033e",
   "metadata": {},
   "outputs": [
    {
     "name": "stdout",
     "output_type": "stream",
     "text": [
      "True\n"
     ]
    }
   ],
   "source": [
    "def is_prime(n):\n",
    "    if n<=1:\n",
    "        return False\n",
    "    elif n<=3:\n",
    "        return True\n",
    "    elif n%2==0 or n%3==0 :\n",
    "        return False\n",
    "    else:\n",
    "        while i * i <= n :\n",
    "            if n % i == 0 or n % (i + 2) == 0:\n",
    "                return False\n",
    "            i += 6\n",
    "        return True\n",
    "        \n",
    "    \n",
    "print(is_prime(3))"
   ]
  },
  {
   "cell_type": "markdown",
   "id": "ccd69dad-bce1-43ce-9fe6-0d49d4a8442d",
   "metadata": {},
   "source": [
    "### Question 1: Define a function `square` that returns the square of its argument.\n",
    "Hint: Use a single parameter for the function and return the parameter multiplied by itself.\n"
   ]
  },
  {
   "cell_type": "code",
   "execution_count": 1,
   "id": "23c63b81-a6be-4204-8b31-b14c0b59dee8",
   "metadata": {},
   "outputs": [
    {
     "data": {
      "text/plain": [
       "25"
      ]
     },
     "execution_count": 1,
     "metadata": {},
     "output_type": "execute_result"
    }
   ],
   "source": [
    "def square(n):\n",
    "    return n**2\n",
    "square(5)\n",
    "    "
   ]
  },
  {
   "cell_type": "markdown",
   "id": "d8c59606-52b1-4dc3-8473-c28502eb075b",
   "metadata": {},
   "source": [
    "### Question 2: Write a function `greet_user` that takes a name as an argument and prints a greeting.\n",
    "Hint: The function should include a parameter for the name and use it in the greeting printed.\n"
   ]
  },
  {
   "cell_type": "code",
   "execution_count": 6,
   "id": "d0d20d1d-bd6e-4d1b-af85-d703205e20ab",
   "metadata": {},
   "outputs": [
    {
     "name": "stdout",
     "output_type": "stream",
     "text": [
      "welcome kuldeep verma in indore\n"
     ]
    }
   ],
   "source": [
    "def greet_user(name):\n",
    "    return \"welcome {name} in indore\".format(name=name)\n",
    "    \n",
    "print(greet_user(\"kuldeep verma\"))"
   ]
  },
  {
   "cell_type": "markdown",
   "id": "31a7c9ea-e6ea-41d7-bf83-2f4e0a5c795b",
   "metadata": {},
   "source": [
    "### Question 3: Create a function `calculate_area` that computes the area of a rectangle.\n",
    "Hint: The function should take two parameters (length and width) and return the product of these.\n"
   ]
  },
  {
   "cell_type": "code",
   "execution_count": 7,
   "id": "cd086445-5844-4e95-a3ac-15c8c0d16848",
   "metadata": {},
   "outputs": [
    {
     "name": "stdout",
     "output_type": "stream",
     "text": [
      "540\n"
     ]
    }
   ],
   "source": [
    "def calculate_area(l,b):\n",
    "    return l*b\n",
    "print(calculate_area(12,45))"
   ]
  },
  {
   "cell_type": "markdown",
   "id": "6b0eb73b-b122-4270-a0a8-3fda7e33b868",
   "metadata": {},
   "source": [
    "### Question 4: Implement a function `is_odd` that returns whether a number is odd.\r\n",
    "Hint: Check if the number is odd by using the modulus operator `% 2` and return the boolean result.\r\n"
   ]
  },
  {
   "cell_type": "code",
   "execution_count": 8,
   "id": "64e864a5-d251-434d-ad4a-ffea6a171c25",
   "metadata": {},
   "outputs": [
    {
     "name": "stdout",
     "output_type": "stream",
     "text": [
      "False\n"
     ]
    }
   ],
   "source": [
    "def is_odd(n):\n",
    "    if n%2==0:\n",
    "        return True\n",
    "    else:\n",
    "        return False\n",
    "print(is_odd(13))"
   ]
  },
  {
   "cell_type": "markdown",
   "id": "e4a6f629-1f99-4b37-809e-576e65fd212a",
   "metadata": {},
   "source": [
    "### Question 5: Define a function `list_sum` that returns the sum of elements in a list.\n",
    "Hint: Iterate over each element in the list to calculate the sum and return it.\n"
   ]
  },
  {
   "cell_type": "code",
   "execution_count": null,
   "id": "f761f08f-cd0d-4a9b-8d8a-e46d8634d60c",
   "metadata": {},
   "outputs": [],
   "source": [
    "def list_sum(n):\n",
    "    list=[]\n",
    "    sum=0\n",
    "    for i in range(n):\n",
    "        element=int(input(\"enter number\"))\n",
    "        list.append(element)\n",
    "        \n",
    "    for i in range(len(list)):\n",
    "        sum=sum+list[i]\n",
    "    return sum\n",
    "print(list_sum(5))"
   ]
  },
  {
   "cell_type": "markdown",
   "id": "993a357d-5d0e-4ad3-8164-c388a9ae8984",
   "metadata": {},
   "source": [
    "### Question 6: Write a function `contains_element` that checks if an element exists in a list and returns a boolean.\n",
    "Hint: Use the `in` keyword to check for the element's presence in the list.\n"
   ]
  },
  {
   "cell_type": "code",
   "execution_count": 16,
   "id": "d8b67ab8-6f2e-42f5-9e81-d3f00a1414ac",
   "metadata": {},
   "outputs": [
    {
     "name": "stdout",
     "output_type": "stream",
     "text": [
      "True\n"
     ]
    }
   ],
   "source": [
    "def contains_element(n):\n",
    "    list=[2,2,5,2589,28,59,9,28,2,95,86,58,6,59,6]\n",
    "    if n in list:\n",
    "        return True\n",
    "    else:\n",
    "        return False\n",
    "print(contains_element(5))"
   ]
  },
  {
   "cell_type": "markdown",
   "id": "859e9437-b1d8-4ea9-96d7-f7d25b6c5ae7",
   "metadata": {},
   "source": [
    "### Question 7: Create a function `add_to_list` that adds an element to a list and returns the list.\n",
    "Hint: The function should take two parameters: the list and the element to add. Use the list's `append` method.\n"
   ]
  },
  {
   "cell_type": "code",
   "execution_count": 21,
   "id": "54c4e54b-28f0-40c9-862b-39e0c1e01ef9",
   "metadata": {},
   "outputs": [
    {
     "name": "stdout",
     "output_type": "stream",
     "text": [
      "[1, 2, 3, 4, 5]\n"
     ]
    }
   ],
   "source": [
    "def add_to_list(lst,element):\n",
    "    lst.append(element)\n",
    "    return lst\n",
    "my_lst=[1,2,3,4]\n",
    "my_element=5\n",
    "print(add_to_list(my_lst,my_element))"
   ]
  },
  {
   "cell_type": "markdown",
   "id": "1f86b2fb-3e42-4a28-bc92-8c0608b8f565",
   "metadata": {},
   "source": [
    "### Question 8: Implement a function `get_average` that calculates the average of numbers in a list.\n",
    "Hint: Sum up the elements using a loop or the `sum` function and divide by the length of the list.\n"
   ]
  },
  {
   "cell_type": "code",
   "execution_count": 24,
   "id": "7a4f2435-b16a-4f6c-a17c-0d9f7f3e9c73",
   "metadata": {},
   "outputs": [
    {
     "name": "stdout",
     "output_type": "stream",
     "text": [
      "3.5\n"
     ]
    }
   ],
   "source": [
    "def get_average(lst):\n",
    "    sum=0\n",
    "    for i in range(len(lst)):\n",
    "        sum=sum+lst[i]\n",
    "    return sum/len(lst)\n",
    "my_list=[1,2,3,4,5,6]\n",
    "print(get_average(my_list))"
   ]
  },
  {
   "cell_type": "markdown",
   "id": "976975e4-8c3c-44d4-90e4-7c82b5b50961",
   "metadata": {},
   "source": [
    "### Question 9: Define a function `reverse_list` that takes a list and returns it reversed.\n",
    "Hint: Use list slicing or a loop to create and return the reversed list.\n"
   ]
  },
  {
   "cell_type": "code",
   "execution_count": 34,
   "id": "232ee499-fdad-499f-84f4-9291f880131e",
   "metadata": {},
   "outputs": [
    {
     "name": "stdout",
     "output_type": "stream",
     "text": [
      "[9, 8, 7, 6, 5, 4, 3, 2, 1]\n"
     ]
    }
   ],
   "source": [
    "def reverse_list(lst):\n",
    "    reversed_list=[]\n",
    "    for i in range((len(lst)-1),-1,-1):\n",
    "        reversed_list.append(lst[i])\n",
    "    return reversed_list\n",
    "my_list=[1,2,3,4,5,6,7,8,9]\n",
    "print(reverse_list(my_list))"
   ]
  },
  {
   "cell_type": "markdown",
   "id": "879d4bb4-5d80-40c0-9622-ae74b6551174",
   "metadata": {},
   "source": [
    " ### Question 10: Write a function `multiply_numbers` that takes an arbitrary number of arguments and returns their product.\r\n",
    "Hint: Use the `*` operator to accumulate the product of the arguments. Consider using a loop to iterate over the arguments.\r\n"
   ]
  },
  {
   "cell_type": "code",
   "execution_count": 35,
   "id": "8795dae2-6641-4b52-9725-b0a670721160",
   "metadata": {},
   "outputs": [
    {
     "name": "stdout",
     "output_type": "stream",
     "text": [
      "240\n"
     ]
    }
   ],
   "source": [
    "def multiply_number(a,b):\n",
    "    return a*b\n",
    "print(multiply_number(12,20))"
   ]
  },
  {
   "cell_type": "markdown",
   "id": "b8503d4f-3cf6-43e8-af5a-91e5a8a6b339",
   "metadata": {},
   "source": [
    "### Question 3: Write a function that modifies a global variable.\r\n",
    "Hint: First, declare the variable as global inside the function, then modify it.\r\n"
   ]
  },
  {
   "cell_type": "code",
   "execution_count": 12,
   "id": "1d9e38eb-cb6c-4b45-9f15-6e07efd88397",
   "metadata": {},
   "outputs": [
    {
     "name": "stdout",
     "output_type": "stream",
     "text": [
      "15\n"
     ]
    }
   ],
   "source": [
    "lucky=10\n",
    "def ayush():\n",
    "    global lucky\n",
    "    lucky = lucky+5\n",
    "\n",
    "ayush()\n",
    "print(lucky)"
   ]
  },
  {
   "cell_type": "markdown",
   "id": "0cca75e8-ecc1-4276-bce9-4c03ff06dd77",
   "metadata": {},
   "source": [
    "### Question 1: Create a function that accepts any number of arguments and prints them.\n",
    "Hint: Use the *args syntax in the function definition to accept a variable number of arguments.\n"
   ]
  },
  {
   "cell_type": "code",
   "execution_count": 16,
   "id": "630255c4-1db2-40e8-9df3-8a8adbb52b82",
   "metadata": {},
   "outputs": [
    {
     "data": {
      "text/plain": [
       "(1, 2, 1, 1, 2, 1)"
      ]
     },
     "execution_count": 16,
     "metadata": {},
     "output_type": "execute_result"
    }
   ],
   "source": [
    "def ayush(*args):\n",
    "    return args+args\n",
    "ayush(1,2,1)"
   ]
  },
  {
   "cell_type": "markdown",
   "id": "53a05e01-1933-4907-b81e-73426d3f6dfc",
   "metadata": {},
   "source": [
    "### Question 2: Write a function that calculates and returns the average of any number of numerical arguments.\n",
    "Hint: Use *args to accept multiple arguments and calculate the average inside the function.\n"
   ]
  },
  {
   "cell_type": "code",
   "execution_count": 17,
   "id": "88557b63-65e0-4525-8357-1ba34e572587",
   "metadata": {},
   "outputs": [
    {
     "name": "stdout",
     "output_type": "stream",
     "text": [
      "2.5\n"
     ]
    }
   ],
   "source": [
    "def average(*args):\n",
    "    sum=0\n",
    "    for arg in args:\n",
    "        sum=sum+arg\n",
    "    return sum/len(args)\n",
    "print(average(1,2,3,4))"
   ]
  },
  {
   "cell_type": "markdown",
   "id": "146ca911-979c-40b2-882e-fbc560d493fc",
   "metadata": {},
   "source": [
    "### Question 3: Implement a function that takes a list and an arbitrary number of additional arguments, then returns a new list containing only the elements found in both.\n",
    "Hint: Use *args for the arbitrary number of arguments and list comprehension or a loop to filter the list.\n"
   ]
  },
  {
   "cell_type": "code",
   "execution_count": 21,
   "id": "08699318-eff1-4486-8e05-bf7180a1276c",
   "metadata": {},
   "outputs": [
    {
     "name": "stdout",
     "output_type": "stream",
     "text": [
      "[1, 3, 4, 5, 6]\n"
     ]
    }
   ],
   "source": [
    "def check(*list1):\n",
    "    list=[1,3,4,5,6,7,8,9]\n",
    "    comm_list=[]\n",
    "    for i in list:\n",
    "        if i in list and i in list1:\n",
    "            comm_list.append(i)\n",
    "    return comm_list\n",
    "print(check(1,2,3,4,5,6,54,32))"
   ]
  },
  {
   "cell_type": "markdown",
   "id": "fca6a550-375b-4d0a-bc74-e4f362537b92",
   "metadata": {},
   "source": [
    "### Question 4: Define a function that accepts keyword arguments and prints the key-value pairs.\n",
    "Hint: Use the **kwargs syntax in the function definition to accept keyword arguments.\n"
   ]
  },
  {
   "cell_type": "code",
   "execution_count": 27,
   "id": "26e8fbc4-88f3-4c2a-a4c6-d020e18269a1",
   "metadata": {},
   "outputs": [
    {
     "name": "stdout",
     "output_type": "stream",
     "text": [
      "kuldeep\n"
     ]
    }
   ],
   "source": [
    "def kuldeep(**kwargs):\n",
    "    for i in kwargs:\n",
    "        return kwargs[i]\n",
    "print(kuldeep(name=\"kuldeep\",Branch=\"aids\"))"
   ]
  },
  {
   "cell_type": "markdown",
   "id": "8a6f9d74-4289-4c43-bb2d-5562242ecb2c",
   "metadata": {},
   "source": [
    "### Question 5: Create a function that takes two lists of equal length and merges them into a dictionary, where elements from the first list are keys and elements from the second list are values.\n",
    "Hint: Use zip() to pair elements from both lists and dict() to convert the pairs into a dictionary.\n"
   ]
  },
  {
   "cell_type": "code",
   "execution_count": 29,
   "id": "22f8244f-796f-47d2-a840-fd6f49b1dcb2",
   "metadata": {},
   "outputs": [
    {
     "name": "stdout",
     "output_type": "stream",
     "text": [
      "{1: 1, 2: 2, 3: 3, 4: 4, 5: 5}\n"
     ]
    }
   ],
   "source": [
    "def merge(list1,list2):\n",
    "    return dict(zip(list1,list2))\n",
    "print(merge(list1=[1,2,3,4,5],list2=[1,2,3,4,5]))\n",
    "        \n",
    "    "
   ]
  },
  {
   "cell_type": "markdown",
   "id": "3e5e9e86-f522-4995-b2fc-29f4621d98a8",
   "metadata": {},
   "source": [
    "### Question 6: Write a function that uses recursion to calculate the factorial of a number.\n",
    "Hint: A factorial function calls itself with a decremented number until reaching the base case of 1\n"
   ]
  },
  {
   "cell_type": "code",
   "execution_count": 34,
   "id": "df141556-16c4-4321-94bb-548013db308a",
   "metadata": {},
   "outputs": [
    {
     "name": "stdout",
     "output_type": "stream",
     "text": [
      "120\n"
     ]
    }
   ],
   "source": [
    "def factorial(n):\n",
    "    if n<=0:\n",
    "        return \"factorial is not possible to calculate\"\n",
    "    elif n==1:\n",
    "        return 1\n",
    "    else:\n",
    "        return n*factorial(n-1)\n",
    "    \n",
    "print(factorial(5))"
   ]
  },
  {
   "cell_type": "markdown",
   "id": "33a4a61f-7af6-4817-9f44-488deed9c3e0",
   "metadata": {},
   "source": [
    "### Question 7: Implement a function that takes a string and returns a dictionary with the count of each character in the string.\n",
    "Hint: Use a loop to iterate over the string and a dictionary to keep track of counts.\n"
   ]
  },
  {
   "cell_type": "code",
   "execution_count": 44,
   "id": "95fbb474-f86a-4823-a574-b56ceca7a14c",
   "metadata": {},
   "outputs": [
    {
     "name": "stdout",
     "output_type": "stream",
     "text": [
      "{'k': 1, 'u': 1, 'l': 1, 'd': 1, 'e': 2, 'p': 1}\n"
     ]
    }
   ],
   "source": [
    "def char_count(s):\n",
    "    count_dict = {}\n",
    "    for char in s:\n",
    "        if char in count_dict:\n",
    "            count_dict[char] += 1\n",
    "        else:\n",
    "            count_dict[char] = 1\n",
    "    return count_dict\n",
    "\n",
    "\n",
    "str1 = \"kuldeep\"\n",
    "print(char_count(str1))\n"
   ]
  },
  {
   "cell_type": "markdown",
   "id": "4e3bc118-03d1-4963-95c6-f9a43111365d",
   "metadata": {},
   "source": [
    "### Question 8: Define a function that filters a list of numbers by removing elements that are not divisible by a given divisor.\n",
    "Hint: Use list comprehension or filter() to create a list of elements that are divisible by the divisor.\n"
   ]
  },
  {
   "cell_type": "code",
   "execution_count": 46,
   "id": "409d0788-2f31-4a55-a292-84580ad3367e",
   "metadata": {},
   "outputs": [
    {
     "name": "stdout",
     "output_type": "stream",
     "text": [
      "[3, 6, 9, 12]\n"
     ]
    }
   ],
   "source": [
    "def filters(list,n):\n",
    "    updated_list=[]\n",
    "    for i in range(len(list)):\n",
    "        if list[i]%n==0:\n",
    "            updated_list.append(list[i])\n",
    "    return updated_list\n",
    "my_list=[1,2,3,4,5,6,7,8,9,10,11,12]\n",
    "print(filters(my_list,3))\n",
    "            \n",
    "    "
   ]
  },
  {
   "cell_type": "markdown",
   "id": "f467db79-88d3-4be3-838f-b5a251c7df44",
   "metadata": {},
   "source": [
    "### Question 1: Write a function `sum_numbers` that sums any number of arguments passed to it.\n",
    "Hint: Use *args to accept any number of positional arguments and sum them up.\n"
   ]
  },
  {
   "cell_type": "code",
   "execution_count": 48,
   "id": "4e3548a3-0ffb-4acb-8f84-47879eaba624",
   "metadata": {},
   "outputs": [
    {
     "name": "stdout",
     "output_type": "stream",
     "text": [
      "15\n"
     ]
    }
   ],
   "source": [
    "def sum_numbers(*args):\n",
    "    sum=0\n",
    "    for arg in args:\n",
    "        sum=sum+arg\n",
    "    return sum\n",
    "print(sum_numbers(1,2,3,4,5))"
   ]
  },
  {
   "cell_type": "markdown",
   "id": "93a91f69-6970-43eb-a61c-ac2239517f35",
   "metadata": {},
   "source": [
    "### Question 2: Create a function `greet_all` that accepts any number of named arguments and prints a greeting for each.\n",
    "Hint: Use **kwargs to accept any number of keyword arguments and iterate over them to print greetings.\n"
   ]
  },
  {
   "cell_type": "code",
   "execution_count": 63,
   "id": "778ccaef-e291-48f2-908d-a98ea7f5de2e",
   "metadata": {},
   "outputs": [
    {
     "name": "stdout",
     "output_type": "stream",
     "text": [
      "Welcome to Indore, kuldeep!\n",
      "Welcome to Indore, mihir!\n"
     ]
    }
   ],
   "source": [
    "def greet_all(*wargs):\n",
    "    for warg in wargs:\n",
    "        print(f\"Welcome to Indore, {warg}!\")\n",
    "\n",
    "names = [\"kuldeep\", \"mihir\"]\n",
    "greet_all(*names)\n"
   ]
  },
  {
   "cell_type": "markdown",
   "id": "c44ba973-0161-466e-b416-ef9d5f582319",
   "metadata": {},
   "source": [
    "### Question 3: Implement a function `multiply` that accepts any number of numeric arguments and returns their product.\n",
    "Hint: Utilize *args to work with multiple numeric inputs and calculate their product.\n"
   ]
  },
  {
   "cell_type": "code",
   "execution_count": 65,
   "id": "30b0b3ee-bbb0-4f38-885e-a4737b737170",
   "metadata": {},
   "outputs": [
    {
     "name": "stdout",
     "output_type": "stream",
     "text": [
      "120\n"
     ]
    }
   ],
   "source": [
    "def multiply(*args):\n",
    "    product=1\n",
    "    for arg in args:\n",
    "        product=product*arg\n",
    "    return product\n",
    "print(multiply(1,2,3,4,5))"
   ]
  },
  {
   "cell_type": "markdown",
   "id": "61b83cac-1b0b-4a15-ac2b-d84145a5055f",
   "metadata": {},
   "source": [
    "### Question 4: Define a function `person_info` that takes a mandatory name argument and any number of additional keyword arguments representing person details.\n",
    "Hint: Start the function definition with a normal positional argument for the name, then use **kwargs for additional details\n"
   ]
  },
  {
   "cell_type": "code",
   "execution_count": null,
   "id": "8028e1ce-7130-43bb-9114-12433c1c8514",
   "metadata": {},
   "outputs": [],
   "source": [
    "def person_info(**kwargs):\n",
    "    print(name,department)"
   ]
  }
 ],
 "metadata": {
  "kernelspec": {
   "display_name": "Python 3 (ipykernel)",
   "language": "python",
   "name": "python3"
  },
  "language_info": {
   "codemirror_mode": {
    "name": "ipython",
    "version": 3
   },
   "file_extension": ".py",
   "mimetype": "text/x-python",
   "name": "python",
   "nbconvert_exporter": "python",
   "pygments_lexer": "ipython3",
   "version": "3.11.7"
  }
 },
 "nbformat": 4,
 "nbformat_minor": 5
}
