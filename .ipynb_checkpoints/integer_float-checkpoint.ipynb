{
 "cells": [
  {
   "cell_type": "code",
   "execution_count": null,
   "id": "bfdcd3dd-a4c6-4a09-a0e1-f1bc3c54fb18",
   "metadata": {},
   "outputs": [],
   "source": []
  }
 ],
 "metadata": {
  "kernelspec": {
   "display_name": "Python 3 (ipykernel)",
   "language": "python",
   "name": "python3"
  },
  "language_info": {
   "name": ""
  }
 },
 "nbformat": 4,
 "nbformat_minor": 5
}
