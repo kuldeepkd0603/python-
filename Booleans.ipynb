{
 "cells": [
  {
   "cell_type": "markdown",
   "id": "8aded0a0-1f6d-410a-b059-943b7f47c002",
   "metadata": {},
   "source": [
    "### Question 1: Boolean Values\n",
    "What are the two Boolean values in Python?\n"
   ]
  },
  {
   "cell_type": "markdown",
   "id": "2f340fb6-c73e-4a1a-9209-2a35bc753bf0",
   "metadata": {},
   "source": [
    "#### True and False"
   ]
  },
  {
   "cell_type": "markdown",
   "id": "8d84783d-ba80-4956-8717-bf3468ea66df",
   "metadata": {},
   "source": [
    "### Question 2: Boolean Operations\n",
    "Perform the AND operation on the Boolean values True and False. What is the result?\n"
   ]
  },
  {
   "cell_type": "code",
   "execution_count": 12,
   "id": "58965243-004c-427b-a38b-3a43f147d0ab",
   "metadata": {},
   "outputs": [
    {
     "name": "stdout",
     "output_type": "stream",
     "text": [
      "True\n"
     ]
    }
   ],
   "source": [
    "a=8\n",
    "b=7\n",
    "print(a<10 and b>5)\n",
    "    \n",
    "    "
   ]
  },
  {
   "cell_type": "markdown",
   "id": "69ad7f90-41af-489c-92f7-4bf8ab23b489",
   "metadata": {},
   "source": [
    "### Question 3: Boolean OR Operation\n",
    "What is the result of the OR operation when both operands are False?\n"
   ]
  },
  {
   "cell_type": "code",
   "execution_count": 13,
   "id": "caccf869-0ab3-4e2b-9687-8028f6ecbc5a",
   "metadata": {},
   "outputs": [
    {
     "name": "stdout",
     "output_type": "stream",
     "text": [
      "True\n"
     ]
    }
   ],
   "source": [
    "a=8\n",
    "b=7\n",
    "print(a<10 or b>5)\n",
    "    \n",
    "    "
   ]
  },
  {
   "cell_type": "markdown",
   "id": "26e8b4e9-1a94-41bb-ae46-a7fbb5c59452",
   "metadata": {},
   "source": [
    "### Question 4: NOT Operation\n",
    "What is the result of applying the NOT operation to True?\n"
   ]
  },
  {
   "cell_type": "code",
   "execution_count": 20,
   "id": "4188bc16-590d-407b-a27e-ba61c71d4c6a",
   "metadata": {},
   "outputs": [
    {
     "name": "stdout",
     "output_type": "stream",
     "text": [
      "8 False\n"
     ]
    }
   ],
   "source": [
    "a=8\n",
    "b=7\n",
    "print(a, not b)\n",
    "    \n",
    "    "
   ]
  },
  {
   "cell_type": "markdown",
   "id": "56474f32-7eba-4370-9835-9dfe4d7d070e",
   "metadata": {},
   "source": [
    "### Question 5: Comparison Operators\n",
    "Use a comparison operator to determine if 10 is greater than 2. What is the Boolean result?\n"
   ]
  },
  {
   "cell_type": "code",
   "execution_count": 21,
   "id": "f786731d-83e4-41e8-aad4-d74d1569b49c",
   "metadata": {},
   "outputs": [
    {
     "name": "stdout",
     "output_type": "stream",
     "text": [
      "True\n"
     ]
    }
   ],
   "source": [
    "a=10\n",
    "b=2\n",
    "print(a>b)"
   ]
  },
  {
   "cell_type": "markdown",
   "id": "3d2fefe1-4502-4631-bd2f-e05467f0973f",
   "metadata": {},
   "source": [
    "### Question 6: Equality and Identity\n",
    "Explain the difference between == and is when used in a condition. Provide examples where the results differ.\n"
   ]
  },
  {
   "cell_type": "code",
   "execution_count": 22,
   "id": "87e88fb1-af06-4d7e-a75f-f35b18f75206",
   "metadata": {},
   "outputs": [
    {
     "name": "stdout",
     "output_type": "stream",
     "text": [
      "False\n"
     ]
    }
   ],
   "source": [
    "age=19\n",
    "print(age==18)"
   ]
  },
  {
   "cell_type": "code",
   "execution_count": null,
   "id": "62b41cc0-bcf2-48e5-ad9c-6dca9f299b09",
   "metadata": {},
   "outputs": [],
   "source": []
  }
 ],
 "metadata": {
  "kernelspec": {
   "display_name": "Python 3 (ipykernel)",
   "language": "python",
   "name": "python3"
  },
  "language_info": {
   "codemirror_mode": {
    "name": "ipython",
    "version": 3
   },
   "file_extension": ".py",
   "mimetype": "text/x-python",
   "name": "python",
   "nbconvert_exporter": "python",
   "pygments_lexer": "ipython3",
   "version": "3.11.7"
  }
 },
 "nbformat": 4,
 "nbformat_minor": 5
}
