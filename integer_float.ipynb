{
 "cells": [
  {
   "cell_type": "markdown",
   "id": "4b1eecd3-b9fd-4e6f-995a-1ae33255de0f",
   "metadata": {},
   "source": [
    "### Question 1: Basic Arithmetic\n",
    "Perform integer division and find the remainder when dividing 45 by 6.\n"
   ]
  },
  {
   "cell_type": "code",
   "execution_count": 2,
   "id": "cb38d57c-28d3-4e09-ae1d-2ce6d957e25b",
   "metadata": {},
   "outputs": [
    {
     "name": "stdout",
     "output_type": "stream",
     "text": [
      "7\n",
      "3\n"
     ]
    }
   ],
   "source": [
    "print(45//6)\n",
    "print(45%6)"
   ]
  },
  {
   "cell_type": "markdown",
   "id": "b8ea8a31-bc59-476f-9743-bf2f8a58bba7",
   "metadata": {},
   "source": [
    "### Question 2: Rounding Floats\n",
    "Round the number 7.654321 to 2 decimal places\n"
   ]
  },
  {
   "cell_type": "code",
   "execution_count": 6,
   "id": "bac1bef0-6f9b-417c-a7e2-37b2011fab89",
   "metadata": {},
   "outputs": [
    {
     "name": "stdout",
     "output_type": "stream",
     "text": [
      "7.65\n"
     ]
    }
   ],
   "source": [
    "number=7.654321\n",
    "print(round(number,2))"
   ]
  },
  {
   "cell_type": "markdown",
   "id": "fb15d983-3e6f-4174-8abc-a24499917bb8",
   "metadata": {},
   "source": [
    "### Question 3: Converting Floats to Integers\n",
    "Convert the float 123.456 to an integer.\n"
   ]
  },
  {
   "cell_type": "code",
   "execution_count": 11,
   "id": "22b7156a-4540-48ec-8442-ce1d93f59f7c",
   "metadata": {},
   "outputs": [
    {
     "name": "stdout",
     "output_type": "stream",
     "text": [
      "123.456\n",
      "<class 'float'>\n",
      "123\n",
      "<class 'float'>\n"
     ]
    }
   ],
   "source": [
    "number=123.456\n",
    "print(number)\n",
    "print(type(number))\n",
    "print(int(number))\n",
    "print(type(number))"
   ]
  },
  {
   "cell_type": "markdown",
   "id": "b7e41054-e5b9-466d-93cc-46e2e7267274",
   "metadata": {},
   "source": [
    " ### Question 4: Absolute Value\n",
    "Find the absolute value of -20\n"
   ]
  },
  {
   "cell_type": "code",
   "execution_count": 12,
   "id": "4a787273-f7ca-43f4-be50-297381e3084b",
   "metadata": {},
   "outputs": [
    {
     "name": "stdout",
     "output_type": "stream",
     "text": [
      "20\n"
     ]
    }
   ],
   "source": [
    "print(abs(-20))"
   ]
  },
  {
   "cell_type": "markdown",
   "id": "5b2af33e-a929-48f6-a6ec-59216aba109b",
   "metadata": {},
   "source": [
    "### Question 5: Power Function\n",
    "Calculate 2 raised to the power of 5.\n"
   ]
  },
  {
   "cell_type": "code",
   "execution_count": 15,
   "id": "b2e75f3f-95be-4042-8fb9-3a40f4ba4c5a",
   "metadata": {},
   "outputs": [
    {
     "name": "stdout",
     "output_type": "stream",
     "text": [
      "32\n",
      "32\n"
     ]
    }
   ],
   "source": [
    "print(2**5)\n",
    "print(pow(2,5))"
   ]
  },
  {
   "cell_type": "markdown",
   "id": "41ee795f-bad0-4982-a206-92d8b546a7bf",
   "metadata": {},
   "source": [
    "### Question 6: Comparing Floats\n",
    "Explain why directly comparing two floats for equality might not always work as expected. Provide an example.\n"
   ]
  },
  {
   "cell_type": "code",
   "execution_count": null,
   "id": "fdb62134-7346-4e21-b75c-8157c159ea6a",
   "metadata": {},
   "outputs": [],
   "source": []
  }
 ],
 "metadata": {
  "kernelspec": {
   "display_name": "Python 3 (ipykernel)",
   "language": "python",
   "name": "python3"
  },
  "language_info": {
   "codemirror_mode": {
    "name": "ipython",
    "version": 3
   },
   "file_extension": ".py",
   "mimetype": "text/x-python",
   "name": "python",
   "nbconvert_exporter": "python",
   "pygments_lexer": "ipython3",
   "version": "3.11.7"
  }
 },
 "nbformat": 4,
 "nbformat_minor": 5
}
