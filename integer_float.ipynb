{
 "cells": [
  {
   "cell_type": "markdown",
   "id": "4b1eecd3-b9fd-4e6f-995a-1ae33255de0f",
   "metadata": {},
   "source": [
    "### Question 1: Basic Arithmetic\n",
    "Perform integer division and find the remainder when dividing 45 by 6.\n"
   ]
  },
  {
   "cell_type": "code",
   "execution_count": 2,
   "id": "cb38d57c-28d3-4e09-ae1d-2ce6d957e25b",
   "metadata": {},
   "outputs": [
    {
     "name": "stdout",
     "output_type": "stream",
     "text": [
      "7\n",
      "3\n"
     ]
    }
   ],
   "source": [
    "print(45//6)\n",
    "print(45%6)"
   ]
  },
  {
   "cell_type": "code",
   "execution_count": null,
   "id": "2c03d6f6-1915-468b-a605-3e40e0195243",
   "metadata": {},
   "outputs": [],
   "source": []
  }
 ],
 "metadata": {
  "kernelspec": {
   "display_name": "Python 3 (ipykernel)",
   "language": "python",
   "name": "python3"
  },
  "language_info": {
   "codemirror_mode": {
    "name": "ipython",
    "version": 3
   },
   "file_extension": ".py",
   "mimetype": "text/x-python",
   "name": "python",
   "nbconvert_exporter": "python",
   "pygments_lexer": "ipython3",
   "version": "3.11.7"
  }
 },
 "nbformat": 4,
 "nbformat_minor": 5
}
