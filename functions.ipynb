{
 "cells": [
  {
   "cell_type": "markdown",
   "id": "4e091513-2256-42ff-9af7-309a66ad3f63",
   "metadata": {},
   "source": [
    "### Question 1: Write a function named `greet` that prints 'Hello, World!'.\n",
    "Hint: Define the function with `def` and no parameters. Use `print` inside the function.\n"
   ]
  },
  {
   "cell_type": "code",
   "execution_count": 2,
   "id": "351f182c-cd04-4386-ab18-24cab93cbc73",
   "metadata": {},
   "outputs": [
    {
     "name": "stdout",
     "output_type": "stream",
     "text": [
      "Hello, World!'\n"
     ]
    }
   ],
   "source": [
    "def greet():\n",
    "    print(\"Hello, World!'\")\n",
    "greet()"
   ]
  },
  {
   "cell_type": "markdown",
   "id": "8b7e1259-3d56-4c4b-ae6e-b469cdc053c7",
   "metadata": {},
   "source": [
    "### Question 2: Create a function `add` that takes two parameters and returns their sum.\n",
    "Hint: The function should have two parameters and use the return statement to give back the sum.\n"
   ]
  },
  {
   "cell_type": "code",
   "execution_count": 3,
   "id": "fbee893d-3407-4231-8f9b-9171625c3fb1",
   "metadata": {},
   "outputs": [
    {
     "data": {
      "text/plain": [
       "3"
      ]
     },
     "execution_count": 3,
     "metadata": {},
     "output_type": "execute_result"
    }
   ],
   "source": [
    "def sum(a,b):\n",
    "    return a+b\n",
    "sum(1,2)"
   ]
  },
  {
   "cell_type": "markdown",
   "id": "d12847a6-8814-461c-8a29-b56e9668ef0d",
   "metadata": {},
   "source": [
    "### Question 3: Implement a function `is_even` that returns `True` if a number is even, otherwise `False`.\n",
    "Hint: Use the modulus operator to check for evenness and return the boolean result.\n"
   ]
  },
  {
   "cell_type": "code",
   "execution_count": 5,
   "id": "350063a2-089c-4b77-a521-89c7e8e0bed4",
   "metadata": {},
   "outputs": [
    {
     "data": {
      "text/plain": [
       "False"
      ]
     },
     "execution_count": 5,
     "metadata": {},
     "output_type": "execute_result"
    }
   ],
   "source": [
    "def is_even(a):\n",
    "    if a%2==0:\n",
    "        return True\n",
    "    else:\n",
    "        return False\n",
    "is_even(143)"
   ]
  },
  {
   "cell_type": "markdown",
   "id": "d57e5ccd-dfc6-4d2d-b370-69367aa4eba6",
   "metadata": {},
   "source": [
    "### Question 4: Define a function `max_of_two` that takes two numbers and returns the larger one.\n",
    "Hint: Use an if-else statement inside the function to compare the two numbers\n"
   ]
  },
  {
   "cell_type": "code",
   "execution_count": 11,
   "id": "f13c10f1-eeac-4537-9f50-f97016791285",
   "metadata": {},
   "outputs": [
    {
     "data": {
      "text/plain": [
       "35"
      ]
     },
     "execution_count": 11,
     "metadata": {},
     "output_type": "execute_result"
    }
   ],
   "source": [
    "def max_of_two(a,b):\n",
    "    if a>b:\n",
    "        return a\n",
    "    else:\n",
    "        return b\n",
    "max_of_two(12,35)"
   ]
  },
  {
   "cell_type": "markdown",
   "id": "07c88e40-6a72-45ef-9e4c-28d33e932992",
   "metadata": {},
   "source": [
    "### Question 5: Write a function `factorial` that computes the factorial of a number and returns it.\n",
    "Hint: Use a loop inside the function to calculate the factorial, starting from 1.\n"
   ]
  },
  {
   "cell_type": "code",
   "execution_count": 14,
   "id": "26e51da5-ff95-48ce-bc67-aeee7aa709fb",
   "metadata": {},
   "outputs": [
    {
     "name": "stdout",
     "output_type": "stream",
     "text": [
      "The factorial of 5 is 120\n"
     ]
    }
   ],
   "source": [
    "def factorial(n):\n",
    "    if n < 0:\n",
    "        return \"Factorial is not defined for negative numbers.\"\n",
    "    elif n == 0 or n == 1:\n",
    "        return 1\n",
    "    else:\n",
    "        return n * factorial(n - 1)\n",
    "\n",
    "number = 5 \n",
    "print(f\"The factorial of {number} is {factorial(number)}\")\n"
   ]
  },
  {
   "cell_type": "markdown",
   "id": "458d1dd2-e5b7-4ae1-a078-ed05e33d41e4",
   "metadata": {},
   "source": [
    "### Question 6: Create a function `count_vowels` that counts and returns the number of vowels in a string.\n",
    "Hint: Loop through the string inside the function and check each character against a set of vowels.\n"
   ]
  },
  {
   "cell_type": "code",
   "execution_count": 15,
   "id": "fd64a78c-6a06-48c7-8ad7-b0c86eed5cc1",
   "metadata": {},
   "outputs": [
    {
     "name": "stdout",
     "output_type": "stream",
     "text": [
      "3\n"
     ]
    }
   ],
   "source": [
    "def count_vovels(n):\n",
    "    vovel={\"a\",\"e\",\"i\",\"o\",\"u\",\"A\",\"E\",\"I\",\"O\",\"U\"}\n",
    "    count=0\n",
    "    for char in n:\n",
    "        if char in vovel:\n",
    "            count=count+1\n",
    "            \n",
    "    return count\n",
    "print(count_vovels(\"kuldeep\"))"
   ]
  },
  {
   "cell_type": "markdown",
   "id": "4ed79713-27c6-4da0-95b3-41fc800bf616",
   "metadata": {},
   "source": [
    "### Question 7: Implement a function `fibonacci` that returns the nth Fibonacci number.\n",
    "Hint: Use recursion or iteration inside the function to calculate the Fibonacci sequence.\n"
   ]
  },
  {
   "cell_type": "code",
   "execution_count": 27,
   "id": "adea8edf-c553-4638-8f31-9bb19440d9eb",
   "metadata": {},
   "outputs": [
    {
     "name": "stdout",
     "output_type": "stream",
     "text": [
      "55\n"
     ]
    }
   ],
   "source": [
    "def fibonacci(n):\n",
    "    if n<0:\n",
    "        return \"Input should be a non-negative integer.\"\n",
    "    elif n==0:\n",
    "        return 0\n",
    "    elif n==1:\n",
    "        return 1\n",
    "    else :\n",
    "        return fibonacci(n-1) + fibonacci(n-2)\n",
    "    \n",
    "print(fibonacci(10))"
   ]
  },
  {
   "cell_type": "markdown",
   "id": "1653d564-66fd-48bf-ba1c-84a33f28b6e5",
   "metadata": {},
   "source": [
    "### Question 8: Write a function `is_prime` that checks if a number is prime and returns `True` or `False`.\n",
    "Hint: Check divisibility of the number by iterating from 2 to the square root of the number.\n"
   ]
  },
  {
   "cell_type": "code",
   "execution_count": 40,
   "id": "e6c1df34-d511-4e1d-b391-ac692d57033e",
   "metadata": {},
   "outputs": [
    {
     "name": "stdout",
     "output_type": "stream",
     "text": [
      "True\n"
     ]
    }
   ],
   "source": [
    "def is_prime(n):\n",
    "    if n<=1:\n",
    "        return False\n",
    "    elif n<=3:\n",
    "        return True\n",
    "    elif n%2==0 or n%3==0 :\n",
    "        return False\n",
    "    else:\n",
    "        while i * i <= n :\n",
    "            if n % i == 0 or n % (i + 2) == 0:\n",
    "                return False\n",
    "            i += 6\n",
    "        return True\n",
    "        \n",
    "    \n",
    "print(is_prime(3))"
   ]
  },
  {
   "cell_type": "code",
   "execution_count": null,
   "id": "3fe3b003-69a6-449c-9b44-cdce21bf1489",
   "metadata": {},
   "outputs": [],
   "source": []
  }
 ],
 "metadata": {
  "kernelspec": {
   "display_name": "Python 3 (ipykernel)",
   "language": "python",
   "name": "python3"
  },
  "language_info": {
   "codemirror_mode": {
    "name": "ipython",
    "version": 3
   },
   "file_extension": ".py",
   "mimetype": "text/x-python",
   "name": "python",
   "nbconvert_exporter": "python",
   "pygments_lexer": "ipython3",
   "version": "3.11.7"
  }
 },
 "nbformat": 4,
 "nbformat_minor": 5
}
