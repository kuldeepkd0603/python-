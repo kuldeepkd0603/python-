{
 "cells": [
  {
   "cell_type": "markdown",
   "id": "b7a6efef-b03c-4415-9879-56a36cf5722f",
   "metadata": {},
   "source": [
    "### Question 1: Converting Strings to Numbers\n",
    "Convert the string \"123\" to an integer, and \"123.45\" to a float.\n"
   ]
  },
  {
   "cell_type": "code",
   "execution_count": 9,
   "id": "7b56e343-56eb-4337-9585-03bfa2d99e22",
   "metadata": {},
   "outputs": [
    {
     "name": "stdout",
     "output_type": "stream",
     "text": [
      "123\n",
      "123.45\n"
     ]
    }
   ],
   "source": [
    "text1=\"123\"\n",
    "print(int(text1))\n",
    "text2=\"123.45\"\n",
    "print(float(text2))\n"
   ]
  },
  {
   "cell_type": "markdown",
   "id": "d0d0f05d-e1ab-4bca-83d3-5907f7bacb3d",
   "metadata": {},
   "source": [
    "### Question 2: Numeric Operations on User Input\n",
    "Ask the user to enter two numbers. Add these numbers together and print the result.\n"
   ]
  },
  {
   "cell_type": "code",
   "execution_count": 12,
   "id": "e5d7fe3d-2a11-4bcb-a7d1-a8bcf7ee4a97",
   "metadata": {},
   "outputs": [
    {
     "name": "stdin",
     "output_type": "stream",
     "text": [
      "enter number 2\n",
      "enter number 3\n"
     ]
    },
    {
     "name": "stdout",
     "output_type": "stream",
     "text": [
      "5\n"
     ]
    }
   ],
   "source": [
    "a=int(input(\"enter number\"))\n",
    "b=int(input(\"enter number\"))\n",
    "print(a+b)"
   ]
  },
  {
   "cell_type": "markdown",
   "id": "afc8d5b3-5c9a-4f28-a3ff-40ad04831620",
   "metadata": {},
   "source": [
    "### Question 3: Concatenating Numbers with Strings\n",
    "Given an integer age = 25, create and print a string \"You are 25 years old.\" using string formatting.\n"
   ]
  },
  {
   "cell_type": "code",
   "execution_count": 15,
   "id": "f0012132-5405-4e5e-b2bd-5abfe0261ab6",
   "metadata": {},
   "outputs": [
    {
     "name": "stdout",
     "output_type": "stream",
     "text": [
      "you are 25 years old \n"
     ]
    }
   ],
   "source": [
    "age=25\n",
    "print(\"you are {age} years old \".format(age=age))"
   ]
  },
  {
   "cell_type": "markdown",
   "id": "d979f11a-1287-4552-8075-c04768b69498",
   "metadata": {},
   "source": [
    "### Question 4: Checking Conversion Possibility\n",
    "Write a function that checks if a given string can be converted to an integer.\n"
   ]
  },
  {
   "cell_type": "code",
   "execution_count": 23,
   "id": "c5a3e889-0464-442a-adc8-8bbc073179fe",
   "metadata": {},
   "outputs": [
    {
     "name": "stdout",
     "output_type": "stream",
     "text": [
      "False\n",
      "True\n"
     ]
    }
   ],
   "source": [
    "def conposibility(str):\n",
    "    try:\n",
    "        int(str)\n",
    "        return True\n",
    "    except ValueError:\n",
    "        return False\n",
    "print(conposibility(\"kuldeep\"))\n",
    "print(conposibility(\"123\"))"
   ]
  },
  {
   "cell_type": "markdown",
   "id": "6fb0fe62-5e7a-4785-b67b-3b03b4c4fda6",
   "metadata": {},
   "source": [
    "### Question 6: Converting Lists to Strings\n",
    "Convert the list ['Python', 'is', 'fun'] to a single string, \"Python is fun\".\n"
   ]
  },
  {
   "cell_type": "code",
   "execution_count": 29,
   "id": "4b750f3d-f917-4171-8876-e647a6290783",
   "metadata": {},
   "outputs": [
    {
     "name": "stdout",
     "output_type": "stream",
     "text": [
      "<class 'str'>\n",
      "'Python', 'is', 'fun']\n"
     ]
    }
   ],
   "source": [
    "list=['Python', 'is', 'fun']\n",
    "string=str(list)\n",
    "print(type(string))\n",
    "\n",
    "print(string.strip(\"[\"))"
   ]
  },
  {
   "cell_type": "code",
   "execution_count": null,
   "id": "a4ef7c9d-17fd-44b9-90f5-2d1d26b8194c",
   "metadata": {},
   "outputs": [],
   "source": []
  }
 ],
 "metadata": {
  "kernelspec": {
   "display_name": "Python 3 (ipykernel)",
   "language": "python",
   "name": "python3"
  },
  "language_info": {
   "codemirror_mode": {
    "name": "ipython",
    "version": 3
   },
   "file_extension": ".py",
   "mimetype": "text/x-python",
   "name": "python",
   "nbconvert_exporter": "python",
   "pygments_lexer": "ipython3",
   "version": "3.11.7"
  }
 },
 "nbformat": 4,
 "nbformat_minor": 5
}
