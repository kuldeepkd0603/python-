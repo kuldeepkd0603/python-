{
 "cells": [
  {
   "cell_type": "markdown",
   "id": "685caeb6-0c8e-4194-acdf-728d5aa97c90",
   "metadata": {},
   "source": [
    "### Question 1:\n",
    "Write an elif chain that prints 'Kid' for ages 0-12, 'Teen' for ages 13-19, and 'Adult' for ages 20 and above."
   ]
  },
  {
   "cell_type": "code",
   "execution_count": 4,
   "id": "fe9eaa71-59b6-428f-8482-474b0dbededf",
   "metadata": {},
   "outputs": [
    {
     "name": "stdin",
     "output_type": "stream",
     "text": [
      "enter age 18\n"
     ]
    },
    {
     "name": "stdout",
     "output_type": "stream",
     "text": [
      "teen\n"
     ]
    }
   ],
   "source": [
    "age=int(input(\"enter age\"))\n",
    "if age<12:\n",
    "    print(\"kid\")\n",
    "elif age>13 and age<19:\n",
    "    print(\"teen\")\n",
    "else:\n",
    "    \n",
    "    print(\"adult\")"
   ]
  },
  {
   "cell_type": "markdown",
   "id": "545f95a4-c1d0-4a6b-81c3-19ec32bf8bd9",
   "metadata": {},
   "source": [
    "### Question 2: \n",
    "Determine the grade (A, B, C, D, F) for a given score using elif statements."
   ]
  },
  {
   "cell_type": "code",
   "execution_count": 9,
   "id": "5d8028a2-b1bc-4287-a14c-004b9b53fd4d",
   "metadata": {},
   "outputs": [
    {
     "name": "stdin",
     "output_type": "stream",
     "text": [
      "enter marks  90\n"
     ]
    },
    {
     "name": "stdout",
     "output_type": "stream",
     "text": [
      "A\n"
     ]
    }
   ],
   "source": [
    "marks=float(input(\"enter marks \"))\n",
    "if marks>=90:\n",
    "    print(\"A\")\n",
    "elif marks>70 and marks<=90:\n",
    "    print(\"B\")\n",
    "elif marks>50 and marks<=70:\n",
    "    print(\"C\")\n",
    "elif  marks>33 and marks<=50:\n",
    "    print(\"D\")\n",
    "else:\n",
    "    print(\"F\")"
   ]
  },
  {
   "cell_type": "markdown",
   "id": "0f5cfff8-a332-4bdb-85fd-d5b147d98043",
   "metadata": {},
   "source": [
    "###  Question 3: \n",
    "Given a variable 'day', print the corresponding day of the week (1 for Monday, 2 for Tuesday, etc.)."
   ]
  },
  {
   "cell_type": "code",
   "execution_count": 11,
   "id": "bad858a1-6662-4c46-bcbd-168ee31c7d38",
   "metadata": {},
   "outputs": [
    {
     "name": "stdin",
     "output_type": "stream",
     "text": [
      "enter day 8\n"
     ]
    },
    {
     "name": "stdout",
     "output_type": "stream",
     "text": [
      "invalid day ,beacuse a week has only 7 days\n"
     ]
    }
   ],
   "source": [
    "day=int(input(\"enter day\"))\n",
    "if day==1:\n",
    "    print(\"monday\")\n",
    "elif day==2:\n",
    "    print(\"tuesday\")\n",
    "elif day==3:\n",
    "    print(\"wednesday\")\n",
    "elif day==4:\n",
    "    print(\"thusday\")\n",
    "elif day==5:\n",
    "    print(\"friday\")\n",
    "elif day==6:\n",
    "    print(\"saturday\")\n",
    "elif day==7:\n",
    "    print(\"sunday\")\n",
    "else:\n",
    "    print(\"invalid day ,beacuse a week has only 7 days\")\n",
    "    "
   ]
  },
  {
   "cell_type": "markdown",
   "id": "cf425ec1-ff35-4e21-a6d7-23ff97796892",
   "metadata": {},
   "source": [
    "### Question 4: \n",
    "Write an elif statement to classify and print the type of triangle (equilateral, isosceles, scalene) given its side lengths."
   ]
  },
  {
   "cell_type": "code",
   "execution_count": 15,
   "id": "a030b0bc-9977-4534-8366-91e3d9a92893",
   "metadata": {},
   "outputs": [
    {
     "name": "stdout",
     "output_type": "stream",
     "text": [
      "scalene\n",
      " isosceles\n",
      "equilatera\n"
     ]
    }
   ],
   "source": [
    "def classify(a,b,c):\n",
    "    if a==b==c:\n",
    "        return \"equilatera\"\n",
    "    elif a==b or b==c or c==a:\n",
    "        return \" isosceles\"\n",
    "    else:\n",
    "        return 'scalene'\n",
    "print(classify(1,2,3))\n",
    "print(classify(1,2,2))\n",
    "print(classify(1,1,1))"
   ]
  },
  {
   "cell_type": "markdown",
   "id": "f26c61cd-2d57-48ee-a367-49ed69b0cac2",
   "metadata": {},
   "source": [
    "### Question 5: \n",
    "Create a calculator that takes an operator (+, -, *, /) and two numbers, then prints the result."
   ]
  },
  {
   "cell_type": "code",
   "execution_count": 23,
   "id": "fa347e72-c26e-4b5a-8dcd-b05d7a1027bf",
   "metadata": {},
   "outputs": [
    {
     "name": "stdout",
     "output_type": "stream",
     "text": [
      "5\n",
      "-1\n",
      "6\n",
      "0.6666666666666666\n",
      "wrong operator\n"
     ]
    }
   ],
   "source": [
    "def calculator(a,b,symbol):\n",
    "    if symbol==\"+\":\n",
    "        return a+b\n",
    "    elif symbol==\"-\":\n",
    "        return a-b\n",
    "    elif symbol==\"*\":\n",
    "        return a*b\n",
    "    elif symbol==\"/\":\n",
    "        return a/b\n",
    "    else:\n",
    "        return \"wrong operator\"\n",
    "print(calculator(2,3,\"+\"))\n",
    "print(calculator(2,3,\"-\"))\n",
    "print(calculator(2,3,\"*\"))\n",
    "print(calculator(2,3,\"/\"))\n",
    "print(calculator(2,3,\"#\"))"
   ]
  },
  {
   "cell_type": "markdown",
   "id": "f8481087-d5bb-4b23-b426-4ab80dd8a022",
   "metadata": {},
   "source": [
    "### Question 6:\n",
    "Print the appropriate season based on the month number (1 for January, 12 for December)."
   ]
  },
  {
   "cell_type": "markdown",
   "id": "89d22d3a-4a1a-4616-b11a-dc2b27478d96",
   "metadata": {},
   "source": [
    "def month(a):\n",
    "    if a==1:\n",
    "        return \"january\"\n",
    "    elif a==2:\n",
    "        return \"febuary\"\n",
    "    elif a==3:\n",
    "        return \"march\"\n",
    "    elif a==4:\n",
    "        return \"april\"\n",
    "    elif a==5:\n",
    "        return \"may\"\n",
    "    elif a==6:\n",
    "        return \"june\"\n",
    "    elif a==7:\n",
    "        return \"july\"\n",
    "    elif a==8:\n",
    "        return \"augest\"\n",
    "    elif a==9:\n",
    "        return \"september\"\n",
    "    elif a==10:\n",
    "        return \"october\"\n",
    "    elif a==11:\n",
    "        return \"novmber\"\n",
    "    elif a==12:\n",
    "        return \"december\"\n",
    "    else:\n",
    "        return \"in a year only 12 months are exits \"\n",
    "print(month(1))\n",
    "print(month(2))\n",
    "print(month(3))\n",
    "print(month(4))\n",
    "print(month(5))\n",
    "print(month(6))\n",
    "print(month(7))\n",
    "print(month(8))\n",
    "print(month(9))\n",
    "print(month(10))\n",
    "print(month(11))\n",
    "print(month(12))\n",
    "print(month(13))"
   ]
  },
  {
   "cell_type": "markdown",
   "id": "22b0746d-b4cb-4200-88f5-a2fb56c37072",
   "metadata": {},
   "source": [
    "### Question 7: \n",
    "Based on the number of petal on a flower, print 'Love me' or 'Love me not' in alternation."
   ]
  },
  {
   "cell_type": "markdown",
   "id": "faf14a2d-14c5-4b80-9466-f35e54c88ffe",
   "metadata": {},
   "source": [
    "### Question 8:\n",
    "Given the time of day as hours (0-23), print 'Morning', 'Afternoon', 'Evening', or 'Night'."
   ]
  },
  {
   "cell_type": "code",
   "execution_count": 40,
   "id": "65a5b725-b1be-4776-a489-080be614a192",
   "metadata": {},
   "outputs": [
    {
     "name": "stdout",
     "output_type": "stream",
     "text": [
      "morning\n"
     ]
    }
   ],
   "source": [
    "def message(time):\n",
    "    if time>3 and time<12:\n",
    "        return \"morning\"\n",
    "    elif time>12 and time<5:\n",
    "        return \"aftenoon\"\n",
    "    elif time>5 and time<10:\n",
    "        return \"evening\"\n",
    "    elif time>10 and time<3:\n",
    "        return \"night\"\n",
    "print(message(4))"
   ]
  },
  {
   "cell_type": "code",
   "execution_count": null,
   "id": "e9090d17-629c-4eba-87f3-4b8abba61599",
   "metadata": {},
   "outputs": [],
   "source": []
  }
 ],
 "metadata": {
  "kernelspec": {
   "display_name": "Python 3 (ipykernel)",
   "language": "python",
   "name": "python3"
  },
  "language_info": {
   "codemirror_mode": {
    "name": "ipython",
    "version": 3
   },
   "file_extension": ".py",
   "mimetype": "text/x-python",
   "name": "python",
   "nbconvert_exporter": "python",
   "pygments_lexer": "ipython3",
   "version": "3.11.7"
  }
 },
 "nbformat": 4,
 "nbformat_minor": 5
}
