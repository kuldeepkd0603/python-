{
 "cells": [
  {
   "cell_type": "markdown",
   "id": "6f66cfa5-ddc0-4a5e-b9f9-e5e0c3273f53",
   "metadata": {},
   "source": [
    "### Question 1: Iterate over a list using a for loop to print each item squared.\n",
    "Hint: Use a for loop directly on the list and print the square of each item inside the loop.\n"
   ]
  },
  {
   "cell_type": "code",
   "execution_count": 1,
   "id": "3fd75946-2363-4e73-80c8-50496e5f447c",
   "metadata": {},
   "outputs": [
    {
     "name": "stdout",
     "output_type": "stream",
     "text": [
      "1\n",
      "4\n",
      "9\n",
      "16\n",
      "25\n",
      "36\n",
      "529\n",
      "198025\n",
      "576\n",
      "54756\n",
      "576\n",
      "1156\n"
     ]
    }
   ],
   "source": [
    "list=[1,2,3,4,5,6,23,445,24,234,24,34]\n",
    "for i in range(len(list)):\n",
    "    print(list[i]**2)"
   ]
  },
  {
   "cell_type": "markdown",
   "id": "c5e28d84-653a-4f29-8e73-49144f882595",
   "metadata": {},
   "source": [
    "### Question 2: Use a for loop to print numbers from 10 down to 1.\n",
    "Hint: Use the range() function with appropriate start, stop, and step arguments to count backwards.\n"
   ]
  },
  {
   "cell_type": "code",
   "execution_count": 4,
   "id": "6cade2f0-9795-4fe6-87d3-8e5e9005c4be",
   "metadata": {},
   "outputs": [
    {
     "name": "stdout",
     "output_type": "stream",
     "text": [
      "10\n",
      "9\n",
      "8\n",
      "7\n",
      "6\n",
      "5\n",
      "4\n",
      "3\n",
      "2\n",
      "1\n"
     ]
    }
   ],
   "source": [
    "for i in range(10,0,-1):\n",
    "    print(i)"
   ]
  },
  {
   "cell_type": "markdown",
   "id": "942ba189-33bf-4a50-94c4-ab7aa9471b2c",
   "metadata": {},
   "source": [
    "### Question 3: Write a for loop that iterates over a string and prints the index of each character alongside the character.\n",
    "Hint: Use the enumerate() function to get both the index and the character in the loop.\n"
   ]
  },
  {
   "cell_type": "code",
   "execution_count": 9,
   "id": "ea7f8e3e-1265-48de-a008-344ccf027050",
   "metadata": {},
   "outputs": [
    {
     "name": "stdout",
     "output_type": "stream",
     "text": [
      "k <enumerate object at 0x000001F624A8FD30>\n",
      "u <enumerate object at 0x000001F624A8FD30>\n",
      "l <enumerate object at 0x000001F624A8FD30>\n",
      "d <enumerate object at 0x000001F624A8FD30>\n",
      "e <enumerate object at 0x000001F624A8FD30>\n",
      "e <enumerate object at 0x000001F624A8FD30>\n",
      "p <enumerate object at 0x000001F624A8FD30>\n"
     ]
    }
   ],
   "source": [
    "name=\"kuldeep\"\n",
    "for i in name:\n",
    "    print(i,enumerate(i))"
   ]
  },
  {
   "cell_type": "markdown",
   "id": "6dce8cb0-f7de-4490-8339-15329dc1ecc4",
   "metadata": {},
   "source": [
    "### Question 4: Use a for loop to concatenate all the elements in a list into a single string.\n",
    "Hint: Initialize an empty string before the loop, then concatenate each list item to this string within the loop.\n"
   ]
  },
  {
   "cell_type": "code",
   "execution_count": 10,
   "id": "b1aa1e76-6221-4525-9a78-b7572b6e08f7",
   "metadata": {},
   "outputs": [
    {
     "name": "stdout",
     "output_type": "stream",
     "text": [
      "k\n",
      "ku\n",
      "kul\n",
      "kuld\n",
      "kulde\n",
      "kuldee\n",
      "kuldeep\n",
      "kuldeep\n"
     ]
    }
   ],
   "source": [
    "name=\"\"\n",
    "list=[\"k\",\"u\",\"l\",\"d\",\"e\",\"e\",\"p\"]\n",
    "for i in range(len(list)):\n",
    "    name=name+list[i]\n",
    "    print(name)\n",
    "print(name)"
   ]
  },
  {
   "cell_type": "markdown",
   "id": "37d51677-07e7-4845-9eb6-b25503a59afc",
   "metadata": {},
   "source": [
    "### Question 5: Iterate over a dictionary and print only the values that are even.\n",
    "Hint: Use a for loop with the .values() method on the dictionary, and an if statement to check for evenness.\n"
   ]
  },
  {
   "cell_type": "code",
   "execution_count": 14,
   "id": "0f111977-8541-46c7-8a81-411ef890ffde",
   "metadata": {},
   "outputs": [],
   "source": [
    "dic={\"roll_no\":{1,2,3,4,5,6,7,8,9,10},\"name\":{\"kuldeep\",\"ankit\",\"ayush\",\"sandeep\",\"mihir\",\"brijraj\",\"sriyansh\",\"ram\",\"ayushman\",\"krishana\"},\"marks\":{12,23,23,23,24,15,16,5,759,3}}"
   ]
  },
  {
   "cell_type": "code",
   "execution_count": 24,
   "id": "83a2b6f6-5994-41cb-9e7a-36ac562abeef",
   "metadata": {},
   "outputs": [
    {
     "name": "stdout",
     "output_type": "stream",
     "text": [
      "dict_values([{1, 2, 3, 4, 5, 6, 7, 8, 9, 10}, {'ayush', 'ram', 'ankit', 'sandeep', 'krishana', 'kuldeep', 'ayushman', 'brijraj', 'sriyansh', 'mihir'}, {3, 5, 12, 15, 16, 23, 759, 24}])\n",
      "dict_values([{1, 2, 3, 4, 5, 6, 7, 8, 9, 10}, {'ayush', 'ram', 'ankit', 'sandeep', 'krishana', 'kuldeep', 'ayushman', 'brijraj', 'sriyansh', 'mihir'}, {3, 5, 12, 15, 16, 23, 759, 24}])\n"
     ]
    }
   ],
   "source": [
    "for i in range(len(dic)):\n",
    "    if i%2==0:\n",
    "        print(dic.values())"
   ]
  },
  {
   "cell_type": "markdown",
   "id": "65f0e235-9ba3-481f-9fc6-60d0375114e4",
   "metadata": {},
   "source": [
    "### Question 6: Write a for loop to create a list of the first 10 Fibonacci numbers.\n",
    "Hint: Initialize a list with the first two Fibonacci numbers, then use a loop to calculate and append the next numbers.\n"
   ]
  },
  {
   "cell_type": "code",
   "execution_count": 31,
   "id": "7c764aa4-78b1-4278-a92f-91f7bf5399ee",
   "metadata": {},
   "outputs": [
    {
     "name": "stdout",
     "output_type": "stream",
     "text": [
      "[0, 1, 1, 2, 3, 5, 8, 13, 21, 34, 55]\n"
     ]
    }
   ],
   "source": [
    "fibo=[0,1]\n",
    "for i in range(2,11):\n",
    "    next_fibo=fibo[-1]+fibo[-2]\n",
    "    fibo.append(next_fibo)\n",
    "print(fibo)\n",
    "    "
   ]
  },
  {
   "cell_type": "markdown",
   "id": "a7c2f974-2842-46ed-b1d3-80aa48d63600",
   "metadata": {},
   "source": [
    "### Question 7: Use a for loop over a list of numbers to print out each number multiplied by itself, but only if the number is greater than 5.\n",
    "Hint: Combine a for loop with an if statement to check the number before printing its square\n"
   ]
  },
  {
   "cell_type": "code",
   "execution_count": 33,
   "id": "e8f6411d-0ef7-4d3c-a7f0-f14ebea23a77",
   "metadata": {},
   "outputs": [
    {
     "name": "stdout",
     "output_type": "stream",
     "text": [
      "49\n",
      "64\n",
      "81\n",
      "100\n",
      "121\n",
      "144\n",
      "169\n",
      "196\n",
      "225\n"
     ]
    }
   ],
   "source": [
    "list=[1,2,3,4,5,6,7,8,9,10,11,12,13,14,15]\n",
    "for i in range(len(list)):\n",
    "    if i>5:\n",
    "        print(list[i]*list[i])"
   ]
  },
  {
   "cell_type": "markdown",
   "id": "aaf1a1e1-ef19-4d7b-89e2-f4ee2bdd1a7d",
   "metadata": {},
   "source": [
    "### Question 8: Iterate over a list of words and print each word on a new line, but in uppercase.\n",
    "Hint: Use the .upper() method on each word within a for loop to print it in uppercase.\n"
   ]
  },
  {
   "cell_type": "code",
   "execution_count": 39,
   "id": "d5bc63a5-cd2b-4eb5-b9d0-e3c2073a34fa",
   "metadata": {},
   "outputs": [
    {
     "name": "stdout",
     "output_type": "stream",
     "text": [
      "AYUSH\n",
      "RAM\n",
      "ANKIT\n",
      "SANDEEP\n",
      "KRISHANA\n",
      "KULDEEP\n",
      "AYUSHMAN\n",
      "BRIJRAJ\n",
      "SRIYANSH\n",
      "MIHIR\n"
     ]
    }
   ],
   "source": [
    "list=['ayush', 'ram', 'ankit', 'sandeep', 'krishana', 'kuldeep', 'ayushman', 'brijraj', 'sriyansh', 'mihir']\n",
    "for i in range(len(list)):\n",
    "    print(list[i].upper())"
   ]
  },
  {
   "cell_type": "markdown",
   "id": "82f9b1d1-bf5a-42dc-87a3-09abdb7e64e5",
   "metadata": {},
   "source": [
    "### Question 9: Write a for loop that iterates over two lists simultaneously to print items from each list side by side.\n",
    "Hint: Use the zip() function to pair items from the two lists in the loop.\n"
   ]
  },
  {
   "cell_type": "code",
   "execution_count": 44,
   "id": "aad2d1c7-beb2-4ecd-a3be-f4a04c7dd58d",
   "metadata": {},
   "outputs": [
    {
     "name": "stdout",
     "output_type": "stream",
     "text": [
      "<zip object at 0x000001F6257E2F00> <zip object at 0x000001F624B2DBC0>\n",
      "<zip object at 0x000001F6257E2F00> <zip object at 0x000001F624B2DBC0>\n",
      "<zip object at 0x000001F6257E2F00> <zip object at 0x000001F624B2DBC0>\n",
      "<zip object at 0x000001F6257E2F00> <zip object at 0x000001F624B2DBC0>\n",
      "<zip object at 0x000001F6257E2F00> <zip object at 0x000001F624B2DBC0>\n",
      "<zip object at 0x000001F6257E2F00> <zip object at 0x000001F624B2DBC0>\n",
      "<zip object at 0x000001F6257E2F00> <zip object at 0x000001F624B2DBC0>\n",
      "<zip object at 0x000001F6257E2F00> <zip object at 0x000001F624B2DBC0>\n",
      "<zip object at 0x000001F6257E2F00> <zip object at 0x000001F624B2DBC0>\n",
      "<zip object at 0x000001F6257E2F00> <zip object at 0x000001F624B2DBC0>\n"
     ]
    }
   ],
   "source": [
    "list=['ayush', 'ram', 'ankit', 'sandeep', 'krishana', 'kuldeep', 'ayushman', 'brijraj', 'sriyansh', 'mihir']\n",
    "list1=['ayush', 'ram', 'ankit', 'sandeep', 'krishana', 'kuldeep', 'ayushman', 'brijraj', 'sriyansh', 'mihir']\n",
    "for i in range(len(list)):\n",
    "    print(zip(list[i]),zip(list1[i]))"
   ]
  },
  {
   "cell_type": "markdown",
   "id": "f8616881-e49a-4414-9f81-ab06632c514f",
   "metadata": {},
   "source": [
    "### Question 10: Create a nested for loop to print a 5x5 matrix of asterisks ('*').\n",
    "Hint: Use two for loops, one nested within the other, with range(5) to print a 5x5 grid of asterisks.\n"
   ]
  },
  {
   "cell_type": "code",
   "execution_count": 54,
   "id": "390c9ca4-7e3d-4efc-8e09-3c7d6c988c7d",
   "metadata": {},
   "outputs": [
    {
     "name": "stdout",
     "output_type": "stream",
     "text": [
      "* * * * * * \n",
      "* * * * * * \n",
      "* * * * * * \n",
      "* * * * * * \n",
      "* * * * * * \n",
      "* * * * * * \n"
     ]
    }
   ],
   "source": [
    "for i in range(6):\n",
    "    for j in range(6):\n",
    "        print(\"*\",end=\" \")\n",
    "    print()"
   ]
  },
  {
   "cell_type": "code",
   "execution_count": null,
   "id": "89675038-8cc2-4abc-a2c6-f3fdbc4009c7",
   "metadata": {},
   "outputs": [],
   "source": []
  }
 ],
 "metadata": {
  "kernelspec": {
   "display_name": "Python 3 (ipykernel)",
   "language": "python",
   "name": "python3"
  },
  "language_info": {
   "codemirror_mode": {
    "name": "ipython",
    "version": 3
   },
   "file_extension": ".py",
   "mimetype": "text/x-python",
   "name": "python",
   "nbconvert_exporter": "python",
   "pygments_lexer": "ipython3",
   "version": "3.11.7"
  }
 },
 "nbformat": 4,
 "nbformat_minor": 5
}
