{
 "cells": [
  {
   "cell_type": "markdown",
   "id": "9f3b4e47-0c69-4ee0-a25e-c858d6118a58",
   "metadata": {},
   "source": [
    "### Question 1: A software company needs a function to calculate the total cost of a project based on the hourly rate and the total hours worked. Write this function.\n",
    "Hint: Use two parameters for the hourly rate and hours worked, and return the product of the two.\n"
   ]
  },
  {
   "cell_type": "code",
   "execution_count": 8,
   "id": "91a09c1b-937d-492e-a7f3-ad1f8dea3b5b",
   "metadata": {},
   "outputs": [
    {
     "name": "stdout",
     "output_type": "stream",
     "text": [
      "you have need to 12500  $ for your project\n",
      "None\n"
     ]
    }
   ],
   "source": [
    "def cost_calculator(hour_rate,hour_worked):\n",
    "     print(f\"you have need to {hour_worked*hour_rate}  $ for your project\")\n",
    "print(cost_calculator(500,25))"
   ]
  },
  {
   "cell_type": "markdown",
   "id": "276f565c-1249-467a-9514-e4ae12ffe6d5",
   "metadata": {},
   "source": [
    "### Question 2: An online store requires a function to apply a discount to a price. The function should take the original price and the discount percentage.\n",
    "Hint: Calculate the discount amount and subtract it from the original price.\n"
   ]
  },
  {
   "cell_type": "code",
   "execution_count": 11,
   "id": "64d10618-2b98-4d61-a9ba-ba20518e704b",
   "metadata": {},
   "outputs": [
    {
     "name": "stdout",
     "output_type": "stream",
     "text": [
      "1930.5\n"
     ]
    }
   ],
   "source": [
    "def discount(price,percentage):\n",
    "    discount_price=price*(percentage/100)\n",
    "    return discount_price\n",
    "print(discount(17550,11))\n"
   ]
  },
  {
   "cell_type": "markdown",
   "id": "7495123c-2596-4a31-909a-4a5f00a88e17",
   "metadata": {},
   "source": [
    "### Question 3: A science lab needs a function to convert temperatures from Celsius to Fahrenheit.\n",
    "Hint: The formula for the conversion is `(Celsius * 9/5) + 32`. Use it in your function\n"
   ]
  },
  {
   "cell_type": "code",
   "execution_count": 14,
   "id": "5c406714-ec29-4b2b-8ad6-5a786ec4348f",
   "metadata": {},
   "outputs": [
    {
     "name": "stdout",
     "output_type": "stream",
     "text": [
      "194.0\n"
     ]
    }
   ],
   "source": [
    "def c_f(c):\n",
    "    f=(c * 9/5) + 32\n",
    "    return f\n",
    "print(c_f(90))"
   ]
  },
  {
   "cell_type": "markdown",
   "id": "2a4cf3cc-82a5-44ed-ade8-748b6a59731b",
   "metadata": {},
   "source": [
    "### Question 4: An automobile company wants a function to calculate fuel efficiency. The function should accept miles driven and gallons used.\n",
    "Hint: Fuel efficiency is measured in miles per gallon. Return the division of miles by gallons.\n"
   ]
  },
  {
   "cell_type": "code",
   "execution_count": 19,
   "id": "a66a81e2-57bd-4de3-8275-4d28e66ee456",
   "metadata": {},
   "outputs": [
    {
     "name": "stdout",
     "output_type": "stream",
     "text": [
      "24.5\n"
     ]
    }
   ],
   "source": [
    "def fuel_efficiency(kms,ltr):\n",
    "    return kms/ltr\n",
    "print(fuel_efficiency(735,30))"
   ]
  },
  {
   "cell_type": "markdown",
   "id": "16bdbd19-7b9f-4c4a-8c73-9b6fb61730c4",
   "metadata": {},
   "source": [
    "### Question 5: A game development company needs a function that generates a character's stats based on a given class (Warrior, Mage, etc.).\n",
    "Hint: Use if-elif-else statements to assign different stats based on the character class.\n"
   ]
  },
  {
   "cell_type": "code",
   "execution_count": 20,
   "id": "1204be8a-0a85-47e1-b27d-fb006784bcf9",
   "metadata": {},
   "outputs": [
    {
     "name": "stdout",
     "output_type": "stream",
     "text": [
      "Character Class: Mage\n",
      "Character Stats:\n",
      "Health: 70\n",
      "Mana: 150\n",
      "Strength: 5\n",
      "Intelligence: 25\n",
      "Agility: 10\n"
     ]
    }
   ],
   "source": [
    "def generate_character_stats(character_class):\n",
    "    stats = {}\n",
    "    \n",
    "    if character_class.lower() == \"warrior\":\n",
    "        stats = {\n",
    "            \"Health\": 150,\n",
    "            \"Mana\": 50,\n",
    "            \"Strength\": 20,\n",
    "            \"Intelligence\": 5,\n",
    "            \"Agility\": 10\n",
    "        }\n",
    "    elif character_class.lower() == \"mage\":\n",
    "        stats = {\n",
    "            \"Health\": 70,\n",
    "            \"Mana\": 150,\n",
    "            \"Strength\": 5,\n",
    "            \"Intelligence\": 25,\n",
    "            \"Agility\": 10\n",
    "        }\n",
    "    elif character_class.lower() == \"rogue\":\n",
    "        stats = {\n",
    "            \"Health\": 100,\n",
    "            \"Mana\": 80,\n",
    "            \"Strength\": 15,\n",
    "            \"Intelligence\": 10,\n",
    "            \"Agility\": 20\n",
    "        }\n",
    "    else:\n",
    "        stats = {\n",
    "            \"Health\": 100,\n",
    "            \"Mana\": 100,\n",
    "            \"Strength\": 10,\n",
    "            \"Intelligence\": 10,\n",
    "            \"Agility\": 10\n",
    "        }\n",
    "        print(f\"Unknown class '{character_class}', assigning default stats.\")\n",
    "    \n",
    "    return stats\n",
    "\n",
    "\n",
    "character_class = \"Mage\"\n",
    "character_stats = generate_character_stats(character_class)\n",
    "\n",
    "print(f\"Character Class: {character_class}\")\n",
    "print(\"Character Stats:\")\n",
    "for stat, value in character_stats.items():\n",
    "    print(f\"{stat}: {value}\")\n"
   ]
  },
  {
   "cell_type": "markdown",
   "id": "c2811e65-4a7b-4d92-afce-72616c11cb25",
   "metadata": {},
   "source": [
    "### Question 6: A finance firm requires a function to calculate compound interest. The function should accept the principal amount, rate of interest, and time in years.\n",
    "Hint: Use the formula `P(1 + R/100)^T` where P is principal, R is rate, and T is time.\n"
   ]
  },
  {
   "cell_type": "code",
   "execution_count": 24,
   "id": "7dd1c700-ad6f-4d80-83e8-6ba1f6373c24",
   "metadata": {},
   "outputs": [
    {
     "name": "stdout",
     "output_type": "stream",
     "text": [
      "Principal Amount: $1000\n",
      "Annual Rate: 5%\n",
      "Time: 10 years\n",
      "Compound Interest: $628.89\n",
      "Total Amount: $1628.89\n"
     ]
    }
   ],
   "source": [
    "def calculate_compound_interest(principal, rate, time):\n",
    "   \n",
    "    amount = principal * (1 + rate / 100) ** time\n",
    "    \n",
    "    interest = amount - principal\n",
    "    return interest, amount\n",
    "\n",
    "principal_amount = 1000 \n",
    "annual_rate = 5          \n",
    "time_in_years = 10       \n",
    "\n",
    "interest, total_amount = calculate_compound_interest(principal_amount, annual_rate, time_in_years)\n",
    "\n",
    "print(f\"Principal Amount: ${principal_amount}\")\n",
    "print(f\"Annual Rate: {annual_rate}%\")\n",
    "print(f\"Time: {time_in_years} years\")\n",
    "print(f\"Compound Interest: ${interest:.2f}\")\n",
    "print(f\"Total Amount: ${total_amount:.2f}\")\n"
   ]
  },
  {
   "cell_type": "markdown",
   "id": "74b31c4f-4677-4996-b61e-9614a63422f3",
   "metadata": {},
   "source": [
    "### Question 7: A cloud service provider needs a function to calculate the cost of storage based on the amount of data stored (in GBs) and the duration (in months).\n",
    "Hint: The cost could depend on the tier of storage. Implement different rates for different tiers.\n"
   ]
  },
  {
   "cell_type": "code",
   "execution_count": 26,
   "id": "c8bbdbbf-d088-494a-a3a0-ecbcfb8c51d8",
   "metadata": {},
   "outputs": [
    {
     "name": "stdout",
     "output_type": "stream",
     "text": [
      "1500.0\n"
     ]
    }
   ],
   "source": [
    "def cost_calculation(data,duration,rate):\n",
    "    return data*duration*rate\n",
    "print(cost_calculation(250,12,0.5))\n",
    "    \n",
    "    "
   ]
  },
  {
   "cell_type": "markdown",
   "id": "04435a0a-7797-43b9-88a6-8c9534842d87",
   "metadata": {},
   "source": [
    "### Question 8: A publishing company wants a function to count the number of words in a manuscript.\n",
    "Hint: Split the text into words and count them. Consider edge cases like punctuation.\n"
   ]
  },
  {
   "cell_type": "code",
   "execution_count": 28,
   "id": "d23186f4-5e3b-42e4-80ac-87c50fbe8c7f",
   "metadata": {},
   "outputs": [
    {
     "name": "stdout",
     "output_type": "stream",
     "text": [
      "Number of words: 13\n"
     ]
    }
   ],
   "source": [
    "import string\n",
    "\n",
    "def count_words(text):\n",
    "   \n",
    "    text = text.translate(str.maketrans('', '', string.punctuation))\n",
    "    text = text.lower()\n",
    "    words = text.split()\n",
    "    word_count = len(words)\n",
    "    return word_count\n",
    "\n",
    "text = \"Hello, world! This is a test. Let's count the words in this manuscript.\"\n",
    "\n",
    "word_count = count_words(text)\n",
    "print(\"Number of words:\", word_count)  \n"
   ]
  },
  {
   "cell_type": "code",
   "execution_count": null,
   "id": "81a83da4-a437-4011-b4a6-32694f3bf864",
   "metadata": {},
   "outputs": [],
   "source": []
  }
 ],
 "metadata": {
  "kernelspec": {
   "display_name": "Python 3 (ipykernel)",
   "language": "python",
   "name": "python3"
  },
  "language_info": {
   "codemirror_mode": {
    "name": "ipython",
    "version": 3
   },
   "file_extension": ".py",
   "mimetype": "text/x-python",
   "name": "python",
   "nbconvert_exporter": "python",
   "pygments_lexer": "ipython3",
   "version": "3.11.7"
  }
 },
 "nbformat": 4,
 "nbformat_minor": 5
}
